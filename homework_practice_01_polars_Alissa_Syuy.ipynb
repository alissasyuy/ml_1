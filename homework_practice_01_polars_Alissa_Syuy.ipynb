{
  "cells": [
    {
      "cell_type": "markdown",
      "metadata": {
        "id": "qT4lcRBz3JKd"
      },
      "source": [
        "## Машинное обучение 1, ПМИ ФКН ВШЭ\n",
        "\n",
        "## Практическое домашнее задание 1\n",
        "\n",
        "### Общая информация\n",
        "\n",
        "Дата выдачи: 25.09.2024\n",
        "\n",
        "Мягкий дедлайн: 23:59MSK 06.10.2024\n",
        "\n",
        "Жесткий дедлайн: 23:59MSK 10.10.2024"
      ]
    },
    {
      "cell_type": "markdown",
      "metadata": {
        "id": "UzmZAvdT3JKf"
      },
      "source": [
        "### О задании\n",
        "\n",
        "Задание состоит из двух разделов, посвященных работе с табличными данными с помощью библиотеки `polars` и визуализации с помощью `matplotlib`. В первом разделе вам предстоит выполнить базовые задания с помощью вышеуказанных библиотек, а во втором распределить студентов по курсам. Баллы даются за выполнение отдельных пунктов. Задачи в рамках одного раздела рекомендуется решать в том порядке, в котором они даны в задании.\n",
        "\n",
        "Задание направлено на освоение jupyter notebook (будет использоваться в дальнейших заданиях), библиотек polars и matplotlib.\n",
        "\n",
        "### Оценивание и штрафы\n",
        "Каждая из задач имеет определенную «стоимость» (указана в скобках около задачи). Максимально допустимая оценка за работу — 10 баллов без учёта бонусов. Сдавать задание после жёсткого дедлайна нельзя.\n",
        "\n",
        "Задание выполняется самостоятельно. «Похожие» решения считаются плагиатом и все задействованные студенты (в том числе те, у кого списали) не могут получить за него больше 0 баллов (подробнее о плагиате см. на странице курса). Если вы нашли решение какого-то из заданий (или его часть) в открытом источнике, необходимо указать ссылку на этот источник (скорее всего вы будете не единственным, кто это нашел, поэтому чтобы исключить подозрение в плагиате, необходима ссылка на источник).\n",
        "\n",
        "### Формат сдачи\n",
        "Задания сдаются через систему Anytask. Инвайт можно получить у семинариста или ассистента. Присылать необходимо ноутбук с выполненным заданием. Сам ноутбук называйте в формате `homework-practice-01-polars-Username.ipynb`, где Username — ваша фамилия.\n",
        "\n",
        "Для удобства проверки самостоятельно посчитайте свою максимальную оценку (исходя из набора решенных задач) и укажите ниже.\n",
        "\n",
        "Оценка: xx."
      ]
    },
    {
      "cell_type": "markdown",
      "metadata": {
        "id": "bQMq9hxz3JKg"
      },
      "source": [
        "## 0. Введение"
      ]
    },
    {
      "cell_type": "markdown",
      "metadata": {
        "id": "rDm3xw-Y3JKg"
      },
      "source": [
        "Сейчас мы находимся в jupyter-ноутбуке (или ipython-ноутбуке). Это удобная среда для написания кода, проведения экспериментов, изучения данных, построения визуализаций и других нужд, не связанных с написанием production-кода.\n",
        "\n",
        "Ноутбук состоит из ячеек, каждая из которых может быть либо ячейкой с кодом, либо ячейкой с текстом размеченным и неразмеченным. Текст поддерживает markdown-разметку и формулы в Latex.\n",
        "\n",
        "Для работы с содержимым ячейки используется *режим редактирования* (*Edit mode*, включается нажатием клавиши **Enter** после выбора ячейки), а для навигации между ячейками искользуется *командный режим* (*Command mode*, включается нажатием клавиши **Esc**). Тип ячейки можно задать в командном режиме либо с помощью горячих клавиш (**y** to code, **m** to markdown, **r** to edit raw text), либо в меню *Cell -> Cell type*.\n",
        "\n",
        "После заполнения ячейки нужно нажать *Shift + Enter*, эта команда обработает содержимое ячейки: проинтерпретирует код или сверстает размеченный текст."
      ]
    },
    {
      "cell_type": "code",
      "execution_count": 507,
      "metadata": {
        "colab": {
          "base_uri": "https://localhost:8080/"
        },
        "id": "OEmmbrlv3JKh",
        "outputId": "f15e7c90-ffe8-44d3-bdc0-c2460e491b65"
      },
      "outputs": [
        {
          "output_type": "execute_result",
          "data": {
            "text/plain": [
              "4"
            ]
          },
          "metadata": {},
          "execution_count": 507
        }
      ],
      "source": [
        "# ячейка с кодом, при выполнении которой появится output\n",
        "2 + 2"
      ]
    },
    {
      "cell_type": "markdown",
      "metadata": {
        "id": "pHuI1gxN3JKi"
      },
      "source": [
        "Ячейка с неразмеченыным текстом."
      ]
    },
    {
      "cell_type": "markdown",
      "metadata": {
        "id": "7Od1jM9q3JKi"
      },
      "source": [
        "Попробуйте создать свои ячейки, написать какой-нибудь код и текст какой-нибудь формулой."
      ]
    },
    {
      "cell_type": "code",
      "execution_count": 508,
      "metadata": {
        "id": "bmR2-3Ut3JKi"
      },
      "outputs": [],
      "source": [
        "# your code"
      ]
    },
    {
      "cell_type": "markdown",
      "metadata": {
        "id": "eNSsZ84J3JKj"
      },
      "source": [
        "[Здесь](https://athena.brynmawr.edu/jupyter/hub/dblank/public/Jupyter%20Notebook%20Users%20Manual.ipynb) находится <s>не</s>большая заметка о используемом языке разметки Markdown. Он позволяет:\n",
        "\n",
        "0. Составлять упорядоченные списки\n",
        "1. Выделять *текст* <s>при</s> **необходимости**\n",
        "2. Добавлять [ссылки](http://imgs.xkcd.com/comics/the_universal_label.png)\n",
        "\n",
        "\n",
        "* Составлять неупорядоченные списки\n",
        "\n",
        "Делать вставки с помощью LaTex:\n",
        "    \n",
        "$\n",
        "\\left\\{\n",
        "\\begin{array}{ll}\n",
        "x = 16 \\sin^3 (t) \\\\\n",
        "y = 13 \\cos (t) - 5 \\cos (2t) - 2 \\cos (3t) - \\cos (4t) \\\\\n",
        "t \\in [0, 2 \\pi]\n",
        "\\end{array}\n",
        "\\right.$"
      ]
    },
    {
      "cell_type": "markdown",
      "metadata": {
        "id": "lmR9WkMh3JKj"
      },
      "source": [
        "А ещё можно вставлять картинки, или гифки, или что захотите:\n",
        "\n",
        "<img src=\"https://i.imgur.com/k5df8lX.gif\" width=\"400px\">\n",
        "\n"
      ]
    },
    {
      "cell_type": "markdown",
      "metadata": {
        "id": "dPLYl66y3JKj"
      },
      "source": [
        "### Google Colab"
      ]
    },
    {
      "cell_type": "markdown",
      "metadata": {
        "id": "A4lqG21G3JKj"
      },
      "source": [
        "Что за колаб?\n",
        "\n",
        "**Google Colab (Colaboratory)** это **Jupyter Notebook + Cloud + Google Drive.**\n",
        "\n",
        "Компания Google предоставляет возможность бесплатно запускать ноутбуки (предварительно загрузив их на свой гугл-диск) прямо в облаке. При этом вам не требуется установка никаких пакетов на свою машину, а работать можно прямиком из браузера. Вот ссылка:"
      ]
    },
    {
      "cell_type": "markdown",
      "metadata": {
        "id": "79bVOFY_3JKj"
      },
      "source": [
        "https://colab.research.google.com"
      ]
    },
    {
      "cell_type": "markdown",
      "metadata": {
        "id": "LnMoUH2P3JKj"
      },
      "source": [
        "При использовании вы увидите много сходств с jupyter ноутбуком. Одним из преимуществ является доступность GPU, соответствующую опцию можно активировать в настройках сервиса. При желании вы сможете найти в интернете много туториалов по использованию или разобраться самостоятельно =)"
      ]
    },
    {
      "cell_type": "markdown",
      "metadata": {
        "id": "iAb44N3VjD11"
      },
      "source": [
        "### Kaggle\n",
        "\n",
        "Альтернативой является **Kaggle**, он же площадка для самых разных соревнований по машинному обучению\n",
        "\n",
        "Он, как и колаб, предоставляет бесплатный GPU, и даже не один, с чётким лимитом в 30 часов в неделю (colab может его внезапно отобрать, kaggle - нет) более мощные CPU с большим числом ядер, и больше Гб ОЗУ (раз так в 2.5)\n",
        "\n",
        "https://www.kaggle.com\n",
        "\n",
        "К сожалению мир не идеален, недостатки следующие:\n",
        "- необходимость загружать датасеты через специальную кнопочку\n",
        "- невозможность использовать свои скрипты и модули :(\n",
        "- нужно тыкать техподдержку, чтобы создать аккаунт из России"
      ]
    },
    {
      "cell_type": "markdown",
      "metadata": {
        "id": "91bWX9jd3JKk"
      },
      "source": [
        "## 1. Табличные данные и Polars"
      ]
    },
    {
      "cell_type": "markdown",
      "metadata": {
        "id": "Z9L3rKBm3JKk"
      },
      "source": [
        "Эта версия домашки предполагает, что вы уже являетесь уверенным пользователем `pandas` и знакомы с датафреймами, как они устроены и как ими манипулировать. Библиотека `polars` основана на тех же концептах.\n",
        "\n",
        "Главные достоинства, которые чуть позже продемонстрируем:\n",
        "- он написан на Rust, поэтому почти все операции в нём выполняются значительно быстрее, есть распараллеливание из коробки, автоматическая оптимизация запросов и пр\n",
        "- он позволяет работать с данными, которые не помещаются в оперативку, с этим поможет `pl.LazyFrame` и streaming\n",
        "- конечно же имеются дополнительные функции, которых в `pandas` нет, но очень хочется, например агрегации с расширяющимся окном, произвольные оконные функции и прочее, для этого есть крайне гибкая штука `pl.Expr`\n",
        "\n",
        "Подробнее можете прочитать на [любом](https://habr.com/ru/articles/710240/) [ресурсе](https://realpython.com/polars-python/), [посвящённом](https://blog.jetbrains.com/pycharm/2024/07/polars-vs-pandas/) [`polars`](https://habr.com/ru/companies/spectr/articles/738766/)\n",
        "\n",
        "В этой части потребуется выполнить несколько небольших заданий. Можно пойти двумя путями: сначала изучить материалы, а потом приступить к заданиям, или же разбираться \"по ходу\". Выбирайте сами\n",
        "\n",
        "Если не понятно, как вызывать конкретный метод, обратитесь к материалам ниже. Имейте в виду, что синтаксис `polars` отличается от привычного нампаевского.\n",
        "Скорее всего все ваши самые извращённые фантазии уже как-то реализованы в `polars`, поэтому читайте внимательно. Ну и конечно гуглить не запрещено, но желательно прикладывать источник\n",
        "\n",
        "Материалы:\n",
        "1. [Getting started](https://docs.pola.rs/user-guide/getting-started/#reading-writing) из официального руководства\n",
        "2. [Документация](https://docs.pola.rs/api/python/stable/reference/index.html) со всем необходимым\n",
        "3. [Модификация для Data Science](https://polars-ds-extension.readthedocs.io/en/latest/index.html), вам скорее всего не понадобится в данном задании, но имейте в виду\n",
        "\n",
        "Многие из заданий можно выполнить несколькими способами. Не существуют единственно верного, но попробуйте максимально задействовать арсенал polars и ориентируйтесь на простоту и понятность вашего кода. Мы не будем подсказывать, что нужно использовать для решения конкретной задачи, попробуйте находить необходимый функционал сами (название метода чаще всего очевидно)"
      ]
    },
    {
      "cell_type": "code",
      "execution_count": 509,
      "metadata": {
        "id": "TwYQ-X_Q-m2A"
      },
      "outputs": [],
      "source": [
        "# поларс относительно молодой, имейте в виду, что что-то может сломаться, если будете менять версию\n",
        "!pip install -qU hvplot xlsx2csv polars==1.5.0"
      ]
    },
    {
      "cell_type": "code",
      "execution_count": 510,
      "metadata": {
        "id": "72smvZpD3JKk"
      },
      "outputs": [],
      "source": [
        "import polars as pl"
      ]
    },
    {
      "cell_type": "markdown",
      "metadata": {
        "id": "hX2zRkMI3JKk"
      },
      "source": [
        "Скачаем данные:"
      ]
    },
    {
      "cell_type": "code",
      "execution_count": 511,
      "metadata": {
        "id": "a4wqrhEA3JKk"
      },
      "outputs": [],
      "source": [
        "!wget  -O 'end_seminar.xlsx' -q 'https://www.dropbox.com/s/f4rm8sjc3v99p0m/_end_seminar.xlsx?dl=0'"
      ]
    },
    {
      "cell_type": "markdown",
      "metadata": {
        "id": "joackhzP3JKl"
      },
      "source": [
        "Для пользователей Windows: скачайте файл самостоятельно и поместите его в папку с тетрадкой. Или попробуйте один из следующих вариантов:"
      ]
    },
    {
      "cell_type": "code",
      "execution_count": 512,
      "metadata": {
        "id": "yhc9NUeE3JKl"
      },
      "outputs": [],
      "source": [
        "# !powershell iwr -outf somefile https://somesite/somefile"
      ]
    },
    {
      "cell_type": "code",
      "execution_count": 513,
      "metadata": {
        "id": "FxbRPi183JKl"
      },
      "outputs": [],
      "source": [
        "# !pip install wget\n",
        "# import wget\n",
        "# wget.download('https://dropbox.com/s/f4rm8sjc3v99p0m/_end_seminar.xlsx?dl=1', 'end_seminar.xlsx')"
      ]
    },
    {
      "cell_type": "markdown",
      "metadata": {
        "id": "5hIwLXz43JKl"
      },
      "source": [
        "### 📌 **Обязательно прочитайте блок ниже**\n",
        "\n",
        "> Пандасом и нампаем пользоваться неельзяя... Совсем\n",
        "\n",
        "> В первой части задания (до раздела \"Распределение студентов по курсам\") использование циклов запрещается и повлечет за собой снижение оценки. Во второй уже можно, но с оговорками, о чём ниже\n",
        "\n",
        "> Циклами в данном случае считается `for`, `while` и map-методы `polars`, где можно использовать лямбда-функцию. Главным образом `map_elements` и его производные.\n",
        "И как правило, всё то, что не умеет делать `pl.LazyFrame` - список [здесь](https://docs.pola.rs/api/python/stable/reference/lazyframe/index.html). Мотивация следующая - используя встроенные функции и методы, `polars` может оптимизировать ваш запрос и провести все нужные манипуляции, прежде чем сериализовать и вывести ответ (за некоторыми исключениями), поэтому важно научиться с этим управляться\n",
        "\n",
        "> Чтобы сделать выбор `polars` осмысленным, мы немножко модифицируем исходный датасет. Он будет больше в несколько раз и может не влезть в память, если у вас меньше 8 Гб, а с учётом преобразований может потребоваться до 64 Гб! Не пренебрегайте возможностями `pl.LazyFrame`. Его использование не обязательно, но может сильно облегчить вам жизнь\n",
        "\n",
        "> Трансформировать датасет `df` можно, как только это потребуется по условию (таких пунктов всего 2), на всякий случай поставим значок 🔄\n",
        "\n",
        "> Если небрежно обращаться с методами `polars`, вы рискуете крашнуть ядро, взорвать компутер, потерять рассудок... Если вдруг у вас есть тачка или хотите подебажить на исходном датасете, то пожалуйста, но помните про условия выше\n",
        "\n",
        "> Гарантируется, что задание можно выполнить, имея лишь ресурсы Google Colab (бесплатные), удачи ( ͡° ͜ʖ ͡°)"
      ]
    },
    {
      "cell_type": "markdown",
      "metadata": {
        "id": "das_ZBWy3JKl"
      },
      "source": [
        "Для каждой задачи из этого раздела вы должны написать код для получения ответа, а также дать текстовый ответ, если он предполагается.\n",
        "\n",
        "На некоторые вопросы вы можете получить путём пристального взгляда на таблицу, но это не будет засчитываться. Вы в любом случае должны получить ответ с помощью кода."
      ]
    },
    {
      "cell_type": "markdown",
      "metadata": {
        "id": "7L9UmKvHSBhk"
      },
      "source": [
        "### 🐻 Бонус polars. [3 балла]\n",
        "Бонус за использование `polars` равен вашей оценке за дз, умноженной на коэффициент 1.3, поэтому даже если сделали не всё, не отчаивайтесь)"
      ]
    },
    {
      "cell_type": "markdown",
      "metadata": {
        "id": "KH2B5XPBDlgp"
      },
      "source": [
        "#### 0. Ещё пара красивых слов"
      ]
    },
    {
      "cell_type": "markdown",
      "metadata": {
        "id": "-pO9LsL5Dsds"
      },
      "source": [
        "Первые несколько манипуляций мы сделаем за вас, а заодно поясним, в чём тут нюанс"
      ]
    },
    {
      "cell_type": "code",
      "execution_count": 514,
      "metadata": {
        "colab": {
          "base_uri": "https://localhost:8080/"
        },
        "id": "Ee0QXmptDrX7",
        "outputId": "71263abb-1f5a-4b0f-dc3b-c5d2e2d681b7"
      },
      "outputs": [
        {
          "output_type": "stream",
          "name": "stdout",
          "text": [
            "361 rows\n",
            "0.14587879180908203 mb\n"
          ]
        }
      ],
      "source": [
        "# читаем датафрейм\n",
        "initial_df = pl.read_excel(\"end_seminar.xlsx\", engine=\"xlsx2csv\")\n",
        "print(initial_df.shape[0], \"rows\")\n",
        "print(initial_df.estimated_size(\"mb\"), \"mb\")"
      ]
    },
    {
      "cell_type": "code",
      "source": [
        "# df.with_columns(pl.col('17_group'))"
      ],
      "metadata": {
        "id": "SYfuDBcwOUZv"
      },
      "execution_count": 515,
      "outputs": []
    },
    {
      "cell_type": "markdown",
      "metadata": {
        "id": "P0nMQNXCD1IO"
      },
      "source": [
        "Как видим, он достаточно маленький. С такими объёмами выбор библиотеки это чисто вкусовщина. Давайте немного поднимем ставки"
      ]
    },
    {
      "cell_type": "code",
      "execution_count": 516,
      "metadata": {
        "id": "PzBRfWY1ECOV"
      },
      "outputs": [],
      "source": [
        "def repeat_df(df: pl.DataFrame | pl.LazyFrame, n: int = 2) -> pl.LazyFrame:\n",
        "    return (\n",
        "        df.lazy()\n",
        "        .select(pl.col(\"timestamp\").unique().sort().repeat_by(n).flatten())\n",
        "        .join(df.lazy(), on=\"timestamp\", how=\"left\")\n",
        "    )"
      ]
    },
    {
      "cell_type": "markdown",
      "metadata": {
        "id": "loouiViPEHGJ"
      },
      "source": [
        "Для работы с датафреймами, которые в память не влезают, нам понадобится объект `pl.LazyFrame`. Он представляет из себя схему выполнения вашего запроса, который оптимизируется, бьётся на батчи и параллелится под капотом через StreamingAPI, что для нас просто идеально. Перевести объект туда можно через метод `lazy`, обратно через `collect`. Учтите, что `streaming=True` работает не со всеми операциями, применяйте с умом, это можно проверить через `pl.LazyFrame.explain(streaming=True)`"
      ]
    },
    {
      "cell_type": "code",
      "execution_count": 517,
      "metadata": {
        "colab": {
          "base_uri": "https://localhost:8080/"
        },
        "id": "OvTbmiSjEEfA",
        "outputId": "7c431637-d260-473d-a69c-42879bfc4c8b"
      },
      "outputs": [
        {
          "output_type": "stream",
          "name": "stdout",
          "text": [
            "Schema\n",
            "LEFT JOIN:\n",
            "LEFT PLAN ON: [col(\"timestamp\")]\n",
            "   SELECT [col(\"timestamp\").unique().sort(asc).repeat_by([dyn int: 2]).explode()] FROM\n",
            "    STREAMING:\n",
            "      DF [\"timestamp\", \"id\", \"rating\", \"18_group\"]; PROJECT 1/16 COLUMNS; SELECTION: None\n",
            "RIGHT PLAN ON: [col(\"timestamp\")]\n",
            "  DF [\"timestamp\", \"id\", \"rating\", \"18_group\"]; PROJECT */16 COLUMNS; SELECTION: None\n",
            "END LEFT JOIN\n"
          ]
        }
      ],
      "source": [
        "repeat_n = 2\n",
        "\n",
        "repeated_df = repeat_df(initial_df, repeat_n)\n",
        "print(\"Schema\")\n",
        "print(repeated_df.explain(streaming=True, optimized=True))"
      ]
    },
    {
      "cell_type": "code",
      "execution_count": 518,
      "metadata": {
        "colab": {
          "base_uri": "https://localhost:8080/"
        },
        "id": "7geBTZI6F691",
        "outputId": "01cb0458-75e5-4ae5-ea4f-f630672b10aa"
      },
      "outputs": [
        {
          "output_type": "stream",
          "name": "stdout",
          "text": [
            "722 rows\n",
            "0.2917900085449219 mb\n"
          ]
        }
      ],
      "source": [
        "# как видим, повторы работают\n",
        "repeated_df = repeated_df.collect()\n",
        "assert repeated_df.shape[0] == initial_df.shape[0] * repeat_n\n",
        "print(repeated_df.shape[0], \"rows\")\n",
        "print(repeated_df.estimated_size(\"mb\"), \"mb\")"
      ]
    },
    {
      "cell_type": "markdown",
      "metadata": {
        "id": "00wHctZJGe8s"
      },
      "source": [
        "Теперь ещё интереснее. Если бы наш датасет был не в 2 раза больше, а в 100000 раз, что бы мы делали? К счастью для нас, поларс может уместить 300кк строк всего лишь в 512Мб, и это даже не прикол, но работать с этим придётся немного иначе"
      ]
    },
    {
      "cell_type": "code",
      "execution_count": 519,
      "metadata": {
        "colab": {
          "base_uri": "https://localhost:8080/"
        },
        "id": "jm93pikEGqJi",
        "outputId": "a3a5d5dd-7613-49db-db2d-8ca1f75fb369"
      },
      "outputs": [
        {
          "output_type": "stream",
          "name": "stdout",
          "text": [
            "1.4245975762605667 gb\n"
          ]
        }
      ],
      "source": [
        "N = 10000\n",
        "\n",
        "df = repeat_df(initial_df, N)\n",
        "print(initial_df.estimated_size(\"gb\") * N, \"gb\")"
      ]
    },
    {
      "cell_type": "markdown",
      "metadata": {
        "id": "MGMtuNEiG-xH"
      },
      "source": [
        "Поэтому даже такая тривиальная задача, как подсчёт строк становится уже не такой простой. Про это и будет дз"
      ]
    },
    {
      "cell_type": "code",
      "execution_count": 520,
      "metadata": {
        "colab": {
          "base_uri": "https://localhost:8080/"
        },
        "id": "pKo9lSvnHlgW",
        "outputId": "52482a7f-eea8-4b8c-8543-8992fdbe3702"
      },
      "outputs": [
        {
          "output_type": "stream",
          "name": "stdout",
          "text": [
            "ой, не получилось...\n"
          ]
        }
      ],
      "source": [
        "try:\n",
        "    print(df.shape[0], \"rows\")\n",
        "except AttributeError:\n",
        "    print(\"ой, не получилось...\")\n",
        "\n",
        "# df.collect().shape[0] # тоже можно, если влезет\n",
        "# len(df.collect().to_pandas()) # а такое может крашнуть ядро, попробуйте, хехе..."
      ]
    },
    {
      "cell_type": "code",
      "execution_count": 521,
      "metadata": {
        "colab": {
          "base_uri": "https://localhost:8080/"
        },
        "id": "mt-cWy3LHhvR",
        "outputId": "a7301df7-4e09-4815-8079-45ddb40ad2c1"
      },
      "outputs": [
        {
          "output_type": "stream",
          "name": "stdout",
          "text": [
            "3610000 rows\n"
          ]
        }
      ],
      "source": [
        "def lazy_len(df: pl.LazyFrame) -> int:\n",
        "    return df.select(pl.len()).collect().item()\n",
        "\n",
        "\n",
        "rows = lazy_len(df)  # намного экономнее, потому что оптимизировано под капотом\n",
        "assert rows == initial_df.shape[0] * N\n",
        "print(rows, \"rows\")"
      ]
    },
    {
      "cell_type": "markdown",
      "metadata": {
        "id": "JZd3QSTo3JKl"
      },
      "source": [
        "#### 1. [0.5 баллов] Откройте файл с таблицей (не забудьте про её формат). Выведите 3 последних строки\n",
        "\n",
        "Посмотрите на данные и скажите, что они из себя представляют, сколько в таблице строк, какие столбцы? (на это не надо отвечать, просто подумайте об этом)"
      ]
    },
    {
      "cell_type": "code",
      "execution_count": 522,
      "metadata": {
        "colab": {
          "base_uri": "https://localhost:8080/",
          "height": 305
        },
        "id": "FArd5QGESdyO",
        "outputId": "3c54bfff-e6ec-4f83-8b7c-7117e4268af6"
      },
      "outputs": [
        {
          "output_type": "execute_result",
          "data": {
            "text/plain": [
              "shape: (3, 16)\n",
              "┌─────────────┬─────────────┬────────┬──────────┬───┬────────────┬──────────┬─────────┬────────────┐\n",
              "│ timestamp   ┆ id          ┆ rating ┆ 18_group ┆ … ┆ percentile ┆ 17_group ┆ blended ┆ is_ml_stud │\n",
              "│ ---         ┆ ---         ┆ ---    ┆ ---      ┆   ┆ ---        ┆ ---      ┆ ---     ┆ ent        │\n",
              "│ str         ┆ str         ┆ i64    ┆ i64      ┆   ┆ f64        ┆ str      ┆ str     ┆ ---        │\n",
              "│             ┆             ┆        ┆          ┆   ┆            ┆          ┆         ┆ bool       │\n",
              "╞═════════════╪═════════════╪════════╪══════════╪═══╪════════════╪══════════╪═════════╪════════════╡\n",
              "│ 2020-05-24  ┆ 9d19b0d5f4f ┆ 695    ┆ 188      ┆ … ┆ 0.197309   ┆ null     ┆ null    ┆ null       │\n",
              "│ 01:23:31    ┆ c8d7edc2258 ┆        ┆          ┆   ┆            ┆          ┆         ┆            │\n",
              "│             ┆ 406f872c…   ┆        ┆          ┆   ┆            ┆          ┆         ┆            │\n",
              "│ 2020-05-24  ┆ 9d19b0d5f4f ┆ 695    ┆ 188      ┆ … ┆ 0.197309   ┆ null     ┆ null    ┆ null       │\n",
              "│ 01:23:31    ┆ c8d7edc2258 ┆        ┆          ┆   ┆            ┆          ┆         ┆            │\n",
              "│             ┆ 406f872c…   ┆        ┆          ┆   ┆            ┆          ┆         ┆            │\n",
              "│ 2020-05-24  ┆ 9d19b0d5f4f ┆ 695    ┆ 188      ┆ … ┆ 0.197309   ┆ null     ┆ null    ┆ null       │\n",
              "│ 01:23:31    ┆ c8d7edc2258 ┆        ┆          ┆   ┆            ┆          ┆         ┆            │\n",
              "│             ┆ 406f872c…   ┆        ┆          ┆   ┆            ┆          ┆         ┆            │\n",
              "└─────────────┴─────────────┴────────┴──────────┴───┴────────────┴──────────┴─────────┴────────────┘"
            ],
            "text/html": [
              "<div><style>\n",
              ".dataframe > thead > tr,\n",
              ".dataframe > tbody > tr {\n",
              "  text-align: right;\n",
              "  white-space: pre-wrap;\n",
              "}\n",
              "</style>\n",
              "<small>shape: (3, 16)</small><table border=\"1\" class=\"dataframe\"><thead><tr><th>timestamp</th><th>id</th><th>rating</th><th>18_group</th><th>is_mi</th><th>fall_1</th><th>fall_2</th><th>fall_3</th><th>spring_1</th><th>spring_2</th><th>spring_3</th><th>is_first_time</th><th>percentile</th><th>17_group</th><th>blended</th><th>is_ml_student</th></tr><tr><td>str</td><td>str</td><td>i64</td><td>i64</td><td>i64</td><td>str</td><td>str</td><td>str</td><td>str</td><td>str</td><td>str</td><td>str</td><td>f64</td><td>str</td><td>str</td><td>bool</td></tr></thead><tbody><tr><td>&quot;2020-05-24 01:23:31&quot;</td><td>&quot;9d19b0d5f4fc8d7edc2258406f872c…</td><td>695</td><td>188</td><td>null</td><td>&quot;Безопасность компьютерных сист…</td><td>&quot;Язык SQL&quot;</td><td>&quot;Высокопроизводительные вычисле…</td><td>&quot;Компьютерные сети&quot;</td><td>&quot;Дискретная оптимизация&quot;</td><td>&quot;Численные методы&quot;</td><td>null</td><td>0.197309</td><td>null</td><td>null</td><td>null</td></tr><tr><td>&quot;2020-05-24 01:23:31&quot;</td><td>&quot;9d19b0d5f4fc8d7edc2258406f872c…</td><td>695</td><td>188</td><td>null</td><td>&quot;Безопасность компьютерных сист…</td><td>&quot;Язык SQL&quot;</td><td>&quot;Высокопроизводительные вычисле…</td><td>&quot;Компьютерные сети&quot;</td><td>&quot;Дискретная оптимизация&quot;</td><td>&quot;Численные методы&quot;</td><td>null</td><td>0.197309</td><td>null</td><td>null</td><td>null</td></tr><tr><td>&quot;2020-05-24 01:23:31&quot;</td><td>&quot;9d19b0d5f4fc8d7edc2258406f872c…</td><td>695</td><td>188</td><td>null</td><td>&quot;Безопасность компьютерных сист…</td><td>&quot;Язык SQL&quot;</td><td>&quot;Высокопроизводительные вычисле…</td><td>&quot;Компьютерные сети&quot;</td><td>&quot;Дискретная оптимизация&quot;</td><td>&quot;Численные методы&quot;</td><td>null</td><td>0.197309</td><td>null</td><td>null</td><td>null</td></tr></tbody></table></div>"
            ]
          },
          "metadata": {},
          "execution_count": 522
        }
      ],
      "source": [
        "df.tail(3).collect()"
      ]
    },
    {
      "cell_type": "markdown",
      "metadata": {
        "id": "o74LHRbU3JKl"
      },
      "source": [
        "<!-- ### Ответьте на вопросы: -->\n",
        "1. Сколько было уникальных пользователей из групп 18-го года набора, а сколько из групп 17-го года?"
      ]
    },
    {
      "cell_type": "code",
      "execution_count": 523,
      "metadata": {
        "colab": {
          "base_uri": "https://localhost:8080/"
        },
        "id": "Fs1s4Ugng2Yu",
        "outputId": "86409239-5091-4bab-be9c-22757f73453e"
      },
      "outputs": [
        {
          "output_type": "stream",
          "name": "stdout",
          "text": [
            "Уникальный студентов 17 год: shape: (1, 1)\n",
            "┌─────┐\n",
            "│ id  │\n",
            "│ --- │\n",
            "│ u32 │\n",
            "╞═════╡\n",
            "│ 134 │\n",
            "└─────┘\n",
            "Уникальный студентов 18 год: shape: (1, 1)\n",
            "┌─────┐\n",
            "│ id  │\n",
            "│ --- │\n",
            "│ u32 │\n",
            "╞═════╡\n",
            "│ 213 │\n",
            "└─────┘\n"
          ]
        }
      ],
      "source": [
        "group_17 = df.filter(pl.col('17_group').is_not_null()).select(pl.col('id').n_unique())\n",
        "print(f'Уникальный студентов 17 год: {group_17.collect()}')\n",
        "group_18 = df.filter(pl.col('18_group').is_not_null()).select(pl.col('id').n_unique())\n",
        "print(f'Уникальный студентов 18 год: {group_18.collect()}')"
      ]
    },
    {
      "cell_type": "markdown",
      "metadata": {
        "id": "nKYih84LTNfe"
      },
      "source": [
        "2. Есть ли уникальные студенты с равными перцентилями?"
      ]
    },
    {
      "cell_type": "code",
      "execution_count": 524,
      "metadata": {
        "colab": {
          "base_uri": "https://localhost:8080/",
          "height": 125
        },
        "id": "VlZxsjoO9964",
        "outputId": "8196accf-6765-4789-bee4-d4e9c71c682b"
      },
      "outputs": [
        {
          "output_type": "execute_result",
          "data": {
            "text/plain": [
              "shape: (1, 2)\n",
              "┌────────────┬─────┐\n",
              "│ percentile ┆ id  │\n",
              "│ ---        ┆ --- │\n",
              "│ f64        ┆ u32 │\n",
              "╞════════════╪═════╡\n",
              "│ 0.0        ┆ 2   │\n",
              "└────────────┴─────┘"
            ],
            "text/html": [
              "<div><style>\n",
              ".dataframe > thead > tr,\n",
              ".dataframe > tbody > tr {\n",
              "  text-align: right;\n",
              "  white-space: pre-wrap;\n",
              "}\n",
              "</style>\n",
              "<small>shape: (1, 2)</small><table border=\"1\" class=\"dataframe\"><thead><tr><th>percentile</th><th>id</th></tr><tr><td>f64</td><td>u32</td></tr></thead><tbody><tr><td>0.0</td><td>2</td></tr></tbody></table></div>"
            ]
          },
          "metadata": {},
          "execution_count": 524
        }
      ],
      "source": [
        "df.group_by(\"percentile\").agg(pl.col(\"id\").n_unique()).filter(pl.col(\"id\") > 1).collect()"
      ]
    },
    {
      "cell_type": "markdown",
      "metadata": {
        "id": "PObB1agk3JKm"
      },
      "source": [
        "#### 2. [0.5 балла] Есть ли в данных пропуски? В каких колонках? Сколько их в каждой из этих колонок?\n",
        "\n",
        "Уникальных или нет - не столь важно"
      ]
    },
    {
      "cell_type": "code",
      "execution_count": 525,
      "metadata": {
        "colab": {
          "base_uri": "https://localhost:8080/",
          "height": 145
        },
        "id": "zmMJ5oSi3JKm",
        "outputId": "6c65bc9e-fdd4-4d5f-dbdb-6d5de22334bc"
      },
      "outputs": [
        {
          "output_type": "execute_result",
          "data": {
            "text/plain": [
              "shape: (1, 16)\n",
              "┌───────────┬─────┬────────┬──────────┬───┬────────────┬──────────┬─────────┬───────────────┐\n",
              "│ timestamp ┆ id  ┆ rating ┆ 18_group ┆ … ┆ percentile ┆ 17_group ┆ blended ┆ is_ml_student │\n",
              "│ ---       ┆ --- ┆ ---    ┆ ---      ┆   ┆ ---        ┆ ---      ┆ ---     ┆ ---           │\n",
              "│ u32       ┆ u32 ┆ u32    ┆ u32      ┆   ┆ u32        ┆ u32      ┆ u32     ┆ u32           │\n",
              "╞═══════════╪═════╪════════╪══════════╪═══╪════════════╪══════════╪═════════╪═══════════════╡\n",
              "│ 0         ┆ 0   ┆ 0      ┆ 1380000  ┆ … ┆ 0          ┆ 2230000  ┆ 2230000 ┆ 3040000       │\n",
              "└───────────┴─────┴────────┴──────────┴───┴────────────┴──────────┴─────────┴───────────────┘"
            ],
            "text/html": [
              "<div><style>\n",
              ".dataframe > thead > tr,\n",
              ".dataframe > tbody > tr {\n",
              "  text-align: right;\n",
              "  white-space: pre-wrap;\n",
              "}\n",
              "</style>\n",
              "<small>shape: (1, 16)</small><table border=\"1\" class=\"dataframe\"><thead><tr><th>timestamp</th><th>id</th><th>rating</th><th>18_group</th><th>is_mi</th><th>fall_1</th><th>fall_2</th><th>fall_3</th><th>spring_1</th><th>spring_2</th><th>spring_3</th><th>is_first_time</th><th>percentile</th><th>17_group</th><th>blended</th><th>is_ml_student</th></tr><tr><td>u32</td><td>u32</td><td>u32</td><td>u32</td><td>u32</td><td>u32</td><td>u32</td><td>u32</td><td>u32</td><td>u32</td><td>u32</td><td>u32</td><td>u32</td><td>u32</td><td>u32</td><td>u32</td></tr></thead><tbody><tr><td>0</td><td>0</td><td>0</td><td>1380000</td><td>3430000</td><td>0</td><td>0</td><td>0</td><td>0</td><td>0</td><td>0</td><td>20000</td><td>0</td><td>2230000</td><td>2230000</td><td>3040000</td></tr></tbody></table></div>"
            ]
          },
          "metadata": {},
          "execution_count": 525
        }
      ],
      "source": [
        "df.null_count().collect()"
      ]
    },
    {
      "cell_type": "markdown",
      "metadata": {
        "id": "H0gva-uD3JKm"
      },
      "source": [
        "🔄 Преобразуйте датасет - заполните пропуски пустой строкой для строковых колонок, нулём для числовых и False для булевых (постарайтесь избежать перечисления названий всех столбцов)."
      ]
    },
    {
      "cell_type": "code",
      "execution_count": 526,
      "metadata": {
        "colab": {
          "base_uri": "https://localhost:8080/",
          "height": 355
        },
        "id": "0umT1jk-AJYV",
        "outputId": "7eff0897-100c-43f2-e0a7-cefc5cce36e2"
      },
      "outputs": [
        {
          "output_type": "execute_result",
          "data": {
            "text/plain": [
              "shape: (3, 16)\n",
              "┌─────────────┬─────────────┬────────┬──────────┬───┬────────────┬──────────┬─────────┬────────────┐\n",
              "│ timestamp   ┆ id          ┆ rating ┆ 18_group ┆ … ┆ percentile ┆ 17_group ┆ blended ┆ is_ml_stud │\n",
              "│ ---         ┆ ---         ┆ ---    ┆ ---      ┆   ┆ ---        ┆ ---      ┆ ---     ┆ ent        │\n",
              "│ str         ┆ str         ┆ i64    ┆ i64      ┆   ┆ f64        ┆ str      ┆ str     ┆ ---        │\n",
              "│             ┆             ┆        ┆          ┆   ┆            ┆          ┆         ┆ bool       │\n",
              "╞═════════════╪═════════════╪════════╪══════════╪═══╪════════════╪══════════╪═════════╪════════════╡\n",
              "│ 2020-05-14  ┆ d555d2805e1 ┆ 996    ┆ 0        ┆ … ┆ 0.963768   ┆ 172      ┆ DevOps  ┆ false      │\n",
              "│ 20:23:21    ┆ d93d4f023e5 ┆        ┆          ┆   ┆            ┆          ┆         ┆            │\n",
              "│             ┆ 7dc4c8f4…   ┆        ┆          ┆   ┆            ┆          ┆         ┆            │\n",
              "│ 2020-05-14  ┆ d555d2805e1 ┆ 996    ┆ 0        ┆ … ┆ 0.963768   ┆ 172      ┆ DevOps  ┆ false      │\n",
              "│ 20:23:21    ┆ d93d4f023e5 ┆        ┆          ┆   ┆            ┆          ┆         ┆            │\n",
              "│             ┆ 7dc4c8f4…   ┆        ┆          ┆   ┆            ┆          ┆         ┆            │\n",
              "│ 2020-05-14  ┆ d555d2805e1 ┆ 996    ┆ 0        ┆ … ┆ 0.963768   ┆ 172      ┆ DevOps  ┆ false      │\n",
              "│ 20:23:21    ┆ d93d4f023e5 ┆        ┆          ┆   ┆            ┆          ┆         ┆            │\n",
              "│             ┆ 7dc4c8f4…   ┆        ┆          ┆   ┆            ┆          ┆         ┆            │\n",
              "└─────────────┴─────────────┴────────┴──────────┴───┴────────────┴──────────┴─────────┴────────────┘"
            ],
            "text/html": [
              "<div><style>\n",
              ".dataframe > thead > tr,\n",
              ".dataframe > tbody > tr {\n",
              "  text-align: right;\n",
              "  white-space: pre-wrap;\n",
              "}\n",
              "</style>\n",
              "<small>shape: (3, 16)</small><table border=\"1\" class=\"dataframe\"><thead><tr><th>timestamp</th><th>id</th><th>rating</th><th>18_group</th><th>is_mi</th><th>fall_1</th><th>fall_2</th><th>fall_3</th><th>spring_1</th><th>spring_2</th><th>spring_3</th><th>is_first_time</th><th>percentile</th><th>17_group</th><th>blended</th><th>is_ml_student</th></tr><tr><td>str</td><td>str</td><td>i64</td><td>i64</td><td>i64</td><td>str</td><td>str</td><td>str</td><td>str</td><td>str</td><td>str</td><td>str</td><td>f64</td><td>str</td><td>str</td><td>bool</td></tr></thead><tbody><tr><td>&quot;2020-05-14 20:23:21&quot;</td><td>&quot;d555d2805e1d93d4f023e57dc4c8f4…</td><td>996</td><td>0</td><td>0</td><td>&quot;Безопасность компьютерных сист…</td><td>&quot;Глубинное обучение в обработке…</td><td>&quot;Байесовские методы машинного о…</td><td>&quot;Компьютерное зрение&quot;</td><td>&quot;Обучение с подкреплением&quot;</td><td>&quot;Проектирование и разработка вы…</td><td>&quot;Да&quot;</td><td>0.963768</td><td>&quot;172&quot;</td><td>&quot;DevOps&quot;</td><td>false</td></tr><tr><td>&quot;2020-05-14 20:23:21&quot;</td><td>&quot;d555d2805e1d93d4f023e57dc4c8f4…</td><td>996</td><td>0</td><td>0</td><td>&quot;Безопасность компьютерных сист…</td><td>&quot;Глубинное обучение в обработке…</td><td>&quot;Байесовские методы машинного о…</td><td>&quot;Компьютерное зрение&quot;</td><td>&quot;Обучение с подкреплением&quot;</td><td>&quot;Проектирование и разработка вы…</td><td>&quot;Да&quot;</td><td>0.963768</td><td>&quot;172&quot;</td><td>&quot;DevOps&quot;</td><td>false</td></tr><tr><td>&quot;2020-05-14 20:23:21&quot;</td><td>&quot;d555d2805e1d93d4f023e57dc4c8f4…</td><td>996</td><td>0</td><td>0</td><td>&quot;Безопасность компьютерных сист…</td><td>&quot;Глубинное обучение в обработке…</td><td>&quot;Байесовские методы машинного о…</td><td>&quot;Компьютерное зрение&quot;</td><td>&quot;Обучение с подкреплением&quot;</td><td>&quot;Проектирование и разработка вы…</td><td>&quot;Да&quot;</td><td>0.963768</td><td>&quot;172&quot;</td><td>&quot;DevOps&quot;</td><td>false</td></tr></tbody></table></div>"
            ]
          },
          "metadata": {},
          "execution_count": 526
        }
      ],
      "source": [
        "df = df.with_columns([\n",
        "    pl.col(pl.String).fill_null(\"\"),\n",
        "    pl.col(pl.Int64).fill_null(0),\n",
        "    pl.col(pl.Boolean).fill_null(False)])\n",
        "df.head(3).collect()"
      ]
    },
    {
      "cell_type": "markdown",
      "metadata": {
        "id": "a0TfG6CY3JKn"
      },
      "source": [
        "#### 3. [0.5 балла] Посмотрите повнимательнее на колонку 'is_first_time'.\n",
        "\n",
        "Каково процентное соотношение ответов? Сколько из них \"Нет\"?"
      ]
    },
    {
      "cell_type": "code",
      "execution_count": 527,
      "metadata": {
        "colab": {
          "base_uri": "https://localhost:8080/",
          "height": 187
        },
        "id": "wGolS2eY3JKn",
        "outputId": "ff295723-9c37-4c5e-c3c5-6cf2825e47ac"
      },
      "outputs": [
        {
          "output_type": "execute_result",
          "data": {
            "text/plain": [
              "shape: (3, 1)\n",
              "┌──────────────────┐\n",
              "│ is_first_time    │\n",
              "│ ---              │\n",
              "│ struct[2]        │\n",
              "╞══════════════════╡\n",
              "│ {\"\",0.00554}     │\n",
              "│ {\"Да\",0.853186}  │\n",
              "│ {\"Нет\",0.141274} │\n",
              "└──────────────────┘"
            ],
            "text/html": [
              "<div><style>\n",
              ".dataframe > thead > tr,\n",
              ".dataframe > tbody > tr {\n",
              "  text-align: right;\n",
              "  white-space: pre-wrap;\n",
              "}\n",
              "</style>\n",
              "<small>shape: (3, 1)</small><table border=\"1\" class=\"dataframe\"><thead><tr><th>is_first_time</th></tr><tr><td>struct[2]</td></tr></thead><tbody><tr><td>{&quot;&quot;,0.00554}</td></tr><tr><td>{&quot;Да&quot;,0.853186}</td></tr><tr><td>{&quot;Нет&quot;,0.141274}</td></tr></tbody></table></div>"
            ]
          },
          "metadata": {},
          "execution_count": 527
        }
      ],
      "source": [
        "df.select(pl.col('is_first_time').value_counts(normalize = True)).collect()"
      ]
    },
    {
      "cell_type": "markdown",
      "metadata": {
        "id": "ffyqq0ilf0pv"
      },
      "source": [
        "🔄 Оставьте только самую позднюю версию обращений студентов и сохраните изменения"
      ]
    },
    {
      "cell_type": "code",
      "source": [
        "df = df.sort(\"timestamp\").unique(subset=\"id\", keep=\"last\")\n",
        "df.head(3).collect()"
      ],
      "metadata": {
        "colab": {
          "base_uri": "https://localhost:8080/",
          "height": 322
        },
        "id": "vfhfrk-JxeLI",
        "outputId": "49aee219-ba82-42eb-ca66-30601bbd8571"
      },
      "execution_count": 528,
      "outputs": [
        {
          "output_type": "execute_result",
          "data": {
            "text/plain": [
              "shape: (3, 16)\n",
              "┌─────────────┬─────────────┬────────┬──────────┬───┬────────────┬──────────┬─────────┬────────────┐\n",
              "│ timestamp   ┆ id          ┆ rating ┆ 18_group ┆ … ┆ percentile ┆ 17_group ┆ blended ┆ is_ml_stud │\n",
              "│ ---         ┆ ---         ┆ ---    ┆ ---      ┆   ┆ ---        ┆ ---      ┆ ---     ┆ ent        │\n",
              "│ str         ┆ str         ┆ i64    ┆ i64      ┆   ┆ f64        ┆ str      ┆ str     ┆ ---        │\n",
              "│             ┆             ┆        ┆          ┆   ┆            ┆          ┆         ┆ bool       │\n",
              "╞═════════════╪═════════════╪════════╪══════════╪═══╪════════════╪══════════╪═════════╪════════════╡\n",
              "│ 2020-05-18  ┆ 0d85933f075 ┆ 1202   ┆ 0        ┆ … ┆ 0.318841   ┆ 175      ┆ DevOps  ┆ false      │\n",
              "│ 14:55:38    ┆ 16e8871e941 ┆        ┆          ┆   ┆            ┆          ┆         ┆            │\n",
              "│             ┆ 5c1d95dd…   ┆        ┆          ┆   ┆            ┆          ┆         ┆            │\n",
              "│ 2020-05-18  ┆ 95cf121698e ┆ 696    ┆ 183      ┆ … ┆ 0.192825   ┆          ┆         ┆ false      │\n",
              "│ 23:48:02    ┆ bc89ac0cf74 ┆        ┆          ┆   ┆            ┆          ┆         ┆            │\n",
              "│             ┆ 625d714d…   ┆        ┆          ┆   ┆            ┆          ┆         ┆            │\n",
              "│ 2020-05-18  ┆ c7544f6c00a ┆ 586    ┆ 183      ┆ … ┆ 0.713004   ┆          ┆         ┆ false      │\n",
              "│ 22:20:36    ┆ 5164efdef67 ┆        ┆          ┆   ┆            ┆          ┆         ┆            │\n",
              "│             ┆ 5410d62e…   ┆        ┆          ┆   ┆            ┆          ┆         ┆            │\n",
              "└─────────────┴─────────────┴────────┴──────────┴───┴────────────┴──────────┴─────────┴────────────┘"
            ],
            "text/html": [
              "<div><style>\n",
              ".dataframe > thead > tr,\n",
              ".dataframe > tbody > tr {\n",
              "  text-align: right;\n",
              "  white-space: pre-wrap;\n",
              "}\n",
              "</style>\n",
              "<small>shape: (3, 16)</small><table border=\"1\" class=\"dataframe\"><thead><tr><th>timestamp</th><th>id</th><th>rating</th><th>18_group</th><th>is_mi</th><th>fall_1</th><th>fall_2</th><th>fall_3</th><th>spring_1</th><th>spring_2</th><th>spring_3</th><th>is_first_time</th><th>percentile</th><th>17_group</th><th>blended</th><th>is_ml_student</th></tr><tr><td>str</td><td>str</td><td>i64</td><td>i64</td><td>i64</td><td>str</td><td>str</td><td>str</td><td>str</td><td>str</td><td>str</td><td>str</td><td>f64</td><td>str</td><td>str</td><td>bool</td></tr></thead><tbody><tr><td>&quot;2020-05-18 14:55:38&quot;</td><td>&quot;0d85933f07516e8871e9415c1d95dd…</td><td>1202</td><td>0</td><td>0</td><td>&quot;Высокопроизводительные вычисле…</td><td>&quot;Высокопроизводительные вычисле…</td><td>&quot;Высокопроизводительные вычисле…</td><td>&quot;Методы сжатия и передачи медиа…</td><td>&quot;Проектирование и разработка вы…</td><td>&quot;Методы сжатия и передачи медиа…</td><td>&quot;Да&quot;</td><td>0.318841</td><td>&quot;175&quot;</td><td>&quot;DevOps&quot;</td><td>false</td></tr><tr><td>&quot;2020-05-18 23:48:02&quot;</td><td>&quot;95cf121698ebc89ac0cf74625d714d…</td><td>696</td><td>183</td><td>0</td><td>&quot;Безопасность компьютерных сист…</td><td>&quot;Теория баз данных&quot;</td><td>&quot;Высокопроизводительные вычисле…</td><td>&quot;Промышленное программирование …</td><td>&quot;Системы баз данных&quot;</td><td>&quot;Компьютерные сети&quot;</td><td>&quot;Да&quot;</td><td>0.192825</td><td>&quot;&quot;</td><td>&quot;&quot;</td><td>false</td></tr><tr><td>&quot;2020-05-18 22:20:36&quot;</td><td>&quot;c7544f6c00a5164efdef675410d62e…</td><td>586</td><td>183</td><td>0</td><td>&quot;Язык SQL&quot;</td><td>&quot;Теория баз данных&quot;</td><td>&quot;Безопасность компьютерных сист…</td><td>&quot;Промышленное программирование …</td><td>&quot;Дискретная оптимизация&quot;</td><td>&quot;Компьютерные сети&quot;</td><td>&quot;Да&quot;</td><td>0.713004</td><td>&quot;&quot;</td><td>&quot;&quot;</td><td>false</td></tr></tbody></table></div>"
            ]
          },
          "metadata": {},
          "execution_count": 528
        }
      ]
    },
    {
      "cell_type": "markdown",
      "metadata": {
        "id": "EXTt7DAJ3JKn"
      },
      "source": [
        "#### 4. [0.5 балла] Какие  blended-курсы для четверокурсников существуют? На какой blended-курс записалось наибольшее количество студентов? На каком из курсов собрались студенты с самым высоким средним рейтингом?"
      ]
    },
    {
      "cell_type": "code",
      "source": [
        "course_4 = df.filter((pl.col('18_group')==0)) # отбираем там где 0 в колонке 18 года\n",
        "course_4.select(pl.col('blended').unique()).collect()"
      ],
      "metadata": {
        "colab": {
          "base_uri": "https://localhost:8080/",
          "height": 187
        },
        "id": "uYmzYwld3Cwl",
        "outputId": "7a56ff62-f1fb-4462-d69b-c7988072a0b7"
      },
      "execution_count": 529,
      "outputs": [
        {
          "output_type": "execute_result",
          "data": {
            "text/plain": [
              "shape: (3, 1)\n",
              "┌─────────────────────────────────┐\n",
              "│ blended                         │\n",
              "│ ---                             │\n",
              "│ str                             │\n",
              "╞═════════════════════════════════╡\n",
              "│ Введение в дифференциальную ге… │\n",
              "│ Соревновательный анализ данных  │\n",
              "│ DevOps                          │\n",
              "└─────────────────────────────────┘"
            ],
            "text/html": [
              "<div><style>\n",
              ".dataframe > thead > tr,\n",
              ".dataframe > tbody > tr {\n",
              "  text-align: right;\n",
              "  white-space: pre-wrap;\n",
              "}\n",
              "</style>\n",
              "<small>shape: (3, 1)</small><table border=\"1\" class=\"dataframe\"><thead><tr><th>blended</th></tr><tr><td>str</td></tr></thead><tbody><tr><td>&quot;Введение в дифференциальную ге…</td></tr><tr><td>&quot;Соревновательный анализ данных&quot;</td></tr><tr><td>&quot;DevOps&quot;</td></tr></tbody></table></div>"
            ]
          },
          "metadata": {},
          "execution_count": 529
        }
      ]
    },
    {
      "cell_type": "code",
      "source": [
        "course_4.group_by('blended').agg(pl.col('id').count()).collect()"
      ],
      "metadata": {
        "colab": {
          "base_uri": "https://localhost:8080/",
          "height": 187
        },
        "id": "R7hZg5ZgCmaR",
        "outputId": "6a4144e9-3887-426d-9c4c-0905995e8d4d"
      },
      "execution_count": 530,
      "outputs": [
        {
          "output_type": "execute_result",
          "data": {
            "text/plain": [
              "shape: (3, 2)\n",
              "┌─────────────────────────────────┬─────┐\n",
              "│ blended                         ┆ id  │\n",
              "│ ---                             ┆ --- │\n",
              "│ str                             ┆ u32 │\n",
              "╞═════════════════════════════════╪═════╡\n",
              "│ Соревновательный анализ данных  ┆ 32  │\n",
              "│ DevOps                          ┆ 87  │\n",
              "│ Введение в дифференциальную ге… ┆ 15  │\n",
              "└─────────────────────────────────┴─────┘"
            ],
            "text/html": [
              "<div><style>\n",
              ".dataframe > thead > tr,\n",
              ".dataframe > tbody > tr {\n",
              "  text-align: right;\n",
              "  white-space: pre-wrap;\n",
              "}\n",
              "</style>\n",
              "<small>shape: (3, 2)</small><table border=\"1\" class=\"dataframe\"><thead><tr><th>blended</th><th>id</th></tr><tr><td>str</td><td>u32</td></tr></thead><tbody><tr><td>&quot;Соревновательный анализ данных&quot;</td><td>32</td></tr><tr><td>&quot;DevOps&quot;</td><td>87</td></tr><tr><td>&quot;Введение в дифференциальную ге…</td><td>15</td></tr></tbody></table></div>"
            ]
          },
          "metadata": {},
          "execution_count": 530
        }
      ]
    },
    {
      "cell_type": "code",
      "execution_count": 531,
      "metadata": {
        "id": "_56adKGR_tZw",
        "colab": {
          "base_uri": "https://localhost:8080/",
          "height": 187
        },
        "outputId": "3b31263d-e3f9-4f03-8d96-0f774ef9dda4"
      },
      "outputs": [
        {
          "output_type": "execute_result",
          "data": {
            "text/plain": [
              "shape: (3, 2)\n",
              "┌─────────────────────────────────┬─────────────┐\n",
              "│ blended                         ┆ rating      │\n",
              "│ ---                             ┆ ---         │\n",
              "│ str                             ┆ f64         │\n",
              "╞═════════════════════════════════╪═════════════╡\n",
              "│ DevOps                          ┆ 1154.172414 │\n",
              "│ Введение в дифференциальную ге… ┆ 1210.733333 │\n",
              "│ Соревновательный анализ данных  ┆ 1144.21875  │\n",
              "└─────────────────────────────────┴─────────────┘"
            ],
            "text/html": [
              "<div><style>\n",
              ".dataframe > thead > tr,\n",
              ".dataframe > tbody > tr {\n",
              "  text-align: right;\n",
              "  white-space: pre-wrap;\n",
              "}\n",
              "</style>\n",
              "<small>shape: (3, 2)</small><table border=\"1\" class=\"dataframe\"><thead><tr><th>blended</th><th>rating</th></tr><tr><td>str</td><td>f64</td></tr></thead><tbody><tr><td>&quot;DevOps&quot;</td><td>1154.172414</td></tr><tr><td>&quot;Введение в дифференциальную ге…</td><td>1210.733333</td></tr><tr><td>&quot;Соревновательный анализ данных&quot;</td><td>1144.21875</td></tr></tbody></table></div>"
            ]
          },
          "metadata": {},
          "execution_count": 531
        }
      ],
      "source": [
        "course_4.group_by('blended').agg(pl.col(\"rating\").mean()).collect()"
      ]
    },
    {
      "cell_type": "markdown",
      "metadata": {
        "id": "afbGGxV73JKn"
      },
      "source": [
        "#### 5. [1 балл] Выясните, есть ли студенты с абсолютно одинаковыми предпочтениями по всем курсам.\n",
        "\n",
        "Для этого сформируйте таблицу, где для каждого возможного набора курсов посчитано количество студентов, выбравших такой набор, и оставьте только строки где это количество больше 1.\n",
        "\n",
        "В данном случае набор курсов задается упорядоченным множеством ('fall_1', 'fall_2', 'fall_3', 'spring_1', 'spring_2', 'spring_3', 'blended'). Элемент blended будет нулевым для 3-го курса."
      ]
    },
    {
      "cell_type": "code",
      "source": [
        "courses = ['fall_1', 'fall_2', 'fall_3', 'spring_1', 'spring_2', 'spring_3', 'blended']\n",
        "\n",
        "kek = df.group_by(courses).agg(pl.len().alias('student_cnt')).filter(pl.col('student_cnt')>1)\n",
        "kek.head(3).collect()"
      ],
      "metadata": {
        "colab": {
          "base_uri": "https://localhost:8080/",
          "height": 269
        },
        "id": "Yr1vRGQGaqX_",
        "outputId": "d3075ad4-a258-4629-f6d0-69106de3586b"
      },
      "execution_count": 532,
      "outputs": [
        {
          "output_type": "execute_result",
          "data": {
            "text/plain": [
              "shape: (3, 8)\n",
              "┌────────────┬────────────┬────────────┬────────────┬────────────┬───────────┬─────────┬───────────┐\n",
              "│ fall_1     ┆ fall_2     ┆ fall_3     ┆ spring_1   ┆ spring_2   ┆ spring_3  ┆ blended ┆ student_c │\n",
              "│ ---        ┆ ---        ┆ ---        ┆ ---        ┆ ---        ┆ ---       ┆ ---     ┆ nt        │\n",
              "│ str        ┆ str        ┆ str        ┆ str        ┆ str        ┆ str       ┆ str     ┆ ---       │\n",
              "│            ┆            ┆            ┆            ┆            ┆           ┆         ┆ u32       │\n",
              "╞════════════╪════════════╪════════════╪════════════╪════════════╪═══════════╪═════════╪═══════════╡\n",
              "│ Безопаснос ┆ Высокопрои ┆ Анализ нес ┆ Проектиров ┆ Методы     ┆ Конфликты ┆ DevOps  ┆ 2         │\n",
              "│ ть компьют ┆ зводительн ┆ труктуриро ┆ ание и     ┆ сжатия и   ┆ и коопера ┆         ┆           │\n",
              "│ ерных      ┆ ые         ┆ ванных     ┆ разработка ┆ передачи   ┆ ция       ┆         ┆           │\n",
              "│ сист…      ┆ вычисле…   ┆ дан…       ┆ вы…        ┆ медиа…     ┆           ┆         ┆           │\n",
              "│ Безопаснос ┆ Высокопрои ┆ Язык SQL   ┆ Компьютерн ┆ Промышленн ┆ Дискретна ┆         ┆ 3         │\n",
              "│ ть компьют ┆ зводительн ┆            ┆ ые сети    ┆ ое програм ┆ я оптимиз ┆         ┆           │\n",
              "│ ерных      ┆ ые         ┆            ┆            ┆ мирование  ┆ ация      ┆         ┆           │\n",
              "│ сист…      ┆ вычисле…   ┆            ┆            ┆ …          ┆           ┆         ┆           │\n",
              "│ Байесовски ┆ Анализ нес ┆ Сбор и     ┆ Обучение с ┆ Компьютерн ┆ Генератив ┆ DevOps  ┆ 2         │\n",
              "│ е методы   ┆ труктуриро ┆ обработка  ┆ подкреплен ┆ ое зрение  ┆ ные       ┆         ┆           │\n",
              "│ машинного  ┆ ванных     ┆ данных с   ┆ ием        ┆            ┆ модели в  ┆         ┆           │\n",
              "│ о…         ┆ дан…       ┆ помо…      ┆            ┆            ┆ машинном… ┆         ┆           │\n",
              "└────────────┴────────────┴────────────┴────────────┴────────────┴───────────┴─────────┴───────────┘"
            ],
            "text/html": [
              "<div><style>\n",
              ".dataframe > thead > tr,\n",
              ".dataframe > tbody > tr {\n",
              "  text-align: right;\n",
              "  white-space: pre-wrap;\n",
              "}\n",
              "</style>\n",
              "<small>shape: (3, 8)</small><table border=\"1\" class=\"dataframe\"><thead><tr><th>fall_1</th><th>fall_2</th><th>fall_3</th><th>spring_1</th><th>spring_2</th><th>spring_3</th><th>blended</th><th>student_cnt</th></tr><tr><td>str</td><td>str</td><td>str</td><td>str</td><td>str</td><td>str</td><td>str</td><td>u32</td></tr></thead><tbody><tr><td>&quot;Безопасность компьютерных сист…</td><td>&quot;Высокопроизводительные вычисле…</td><td>&quot;Анализ неструктурированных дан…</td><td>&quot;Проектирование и разработка вы…</td><td>&quot;Методы сжатия и передачи медиа…</td><td>&quot;Конфликты и кооперация&quot;</td><td>&quot;DevOps&quot;</td><td>2</td></tr><tr><td>&quot;Безопасность компьютерных сист…</td><td>&quot;Высокопроизводительные вычисле…</td><td>&quot;Язык SQL&quot;</td><td>&quot;Компьютерные сети&quot;</td><td>&quot;Промышленное программирование …</td><td>&quot;Дискретная оптимизация&quot;</td><td>&quot;&quot;</td><td>3</td></tr><tr><td>&quot;Байесовские методы машинного о…</td><td>&quot;Анализ неструктурированных дан…</td><td>&quot;Сбор и обработка данных с помо…</td><td>&quot;Обучение с подкреплением&quot;</td><td>&quot;Компьютерное зрение&quot;</td><td>&quot;Генеративные модели в машинном…</td><td>&quot;DevOps&quot;</td><td>2</td></tr></tbody></table></div>"
            ]
          },
          "metadata": {},
          "execution_count": 532
        }
      ]
    },
    {
      "cell_type": "code",
      "source": [
        "kek.collect().shape"
      ],
      "metadata": {
        "colab": {
          "base_uri": "https://localhost:8080/"
        },
        "id": "sTDqixs7gE6h",
        "outputId": "a3ce2bd1-71ed-49c0-ae67-5265425d7aa4"
      },
      "execution_count": 533,
      "outputs": [
        {
          "output_type": "execute_result",
          "data": {
            "text/plain": [
              "(15, 8)"
            ]
          },
          "metadata": {},
          "execution_count": 533
        }
      ]
    },
    {
      "cell_type": "markdown",
      "metadata": {
        "id": "JU0vq96o3JKo"
      },
      "source": [
        "#### 6. [0.5 балла] Найдите курсы по выбору, на которые записывались как студенты 18-го года набора, так и студенты 17-го года. -->"
      ]
    },
    {
      "cell_type": "code",
      "source": [
        "# сгруппировали по столбцу индикатору, что студент из группы 17 года, агрегация по курсам из списка courses\n",
        "\n",
        "lol = df.with_columns((pl.col('18_group')==0).alias('with_17_group')).group_by('with_17_group').agg(\n",
        "    [pl.concat_list(courses).explode().alias('unique_courses')])\n",
        "\n",
        "st_18, st_17 = lol.collect()['unique_courses'].to_list()\n",
        "set(st_17)&set(st_18)"
      ],
      "metadata": {
        "colab": {
          "base_uri": "https://localhost:8080/"
        },
        "id": "GxCHnAJUwKcS",
        "outputId": "d29c2f9a-e8fe-4644-f675-b352b0925b04"
      },
      "execution_count": 534,
      "outputs": [
        {
          "output_type": "execute_result",
          "data": {
            "text/plain": [
              "{'Statistical Learning Theory',\n",
              " 'Безопасность компьютерных систем',\n",
              " 'Высокопроизводительные вычисления',\n",
              " 'Моделирование временных рядов',\n",
              " 'Принятие решений в условиях риска и неопределённости',\n",
              " 'Сбор и обработка данных с помощью краудсорсинга',\n",
              " 'Численные методы'}"
            ]
          },
          "metadata": {},
          "execution_count": 534
        }
      ]
    },
    {
      "cell_type": "code",
      "source": [
        "lol.collect()"
      ],
      "metadata": {
        "colab": {
          "base_uri": "https://localhost:8080/",
          "height": 156
        },
        "id": "ymvPBNdqTddi",
        "outputId": "3fb81af6-6361-4b6d-cf2d-a6c4fea08042"
      },
      "execution_count": 535,
      "outputs": [
        {
          "output_type": "execute_result",
          "data": {
            "text/plain": [
              "shape: (2, 2)\n",
              "┌───────────────┬─────────────────────────────────┐\n",
              "│ with_17_group ┆ unique_courses                  │\n",
              "│ ---           ┆ ---                             │\n",
              "│ bool          ┆ list[str]                       │\n",
              "╞═══════════════╪═════════════════════════════════╡\n",
              "│ true          ┆ [\"Безопасность компьютерных си… │\n",
              "│ false         ┆ [\"Язык SQL\", \"Statistical Lear… │\n",
              "└───────────────┴─────────────────────────────────┘"
            ],
            "text/html": [
              "<div><style>\n",
              ".dataframe > thead > tr,\n",
              ".dataframe > tbody > tr {\n",
              "  text-align: right;\n",
              "  white-space: pre-wrap;\n",
              "}\n",
              "</style>\n",
              "<small>shape: (2, 2)</small><table border=\"1\" class=\"dataframe\"><thead><tr><th>with_17_group</th><th>unique_courses</th></tr><tr><td>bool</td><td>list[str]</td></tr></thead><tbody><tr><td>true</td><td>[&quot;Безопасность компьютерных систем&quot;, &quot;Сбор и обработка данных с помощью краудсорсинга&quot;, … &quot;Соревновательный анализ данных&quot;]</td></tr><tr><td>false</td><td>[&quot;Язык SQL&quot;, &quot;Statistical Learning Theory&quot;, … &quot;&quot;]</td></tr></tbody></table></div>"
            ]
          },
          "metadata": {},
          "execution_count": 535
        }
      ]
    },
    {
      "cell_type": "markdown",
      "metadata": {
        "id": "NMkajSaI3JKr"
      },
      "source": [
        "Методом исключения найдите курсы, которые предлагались только студентам 18-го года и только студентам 17-го года."
      ]
    },
    {
      "cell_type": "code",
      "execution_count": 536,
      "metadata": {
        "id": "enzNaFLP3JKs",
        "colab": {
          "base_uri": "https://localhost:8080/"
        },
        "outputId": "42d93137-83eb-4cd2-ee58-6b87acc408b8"
      },
      "outputs": [
        {
          "output_type": "execute_result",
          "data": {
            "text/plain": [
              "{'DevOps',\n",
              " 'Анализ неструктурированных данных',\n",
              " 'Байесовские методы машинного обучения',\n",
              " 'Введение в дифференциальную геометрию',\n",
              " 'Генеративные модели в машинном обучении',\n",
              " 'Глубинное обучение в обработке звука',\n",
              " 'Компьютерное зрение',\n",
              " 'Конфликты и кооперация',\n",
              " 'Методы сжатия и передачи медиаданных',\n",
              " 'Обучение с подкреплением',\n",
              " 'Проектирование и разработка высоконагруженных сервисов',\n",
              " 'Символьные вычисления',\n",
              " 'Соревновательный анализ данных'}"
            ]
          },
          "metadata": {},
          "execution_count": 536
        }
      ],
      "source": [
        "# предлагались только студентам 17 года\n",
        "(set(st_17)|set(st_18)) - set(st_18)"
      ]
    },
    {
      "cell_type": "code",
      "source": [
        "# предлагались только студентам 18 года\n",
        "(set(st_17)|set(st_18)) - set(st_17)"
      ],
      "metadata": {
        "colab": {
          "base_uri": "https://localhost:8080/"
        },
        "id": "5T7lIHiGTPnF",
        "outputId": "ea536b4f-373d-4e64-946a-83744791e94e"
      },
      "execution_count": 537,
      "outputs": [
        {
          "output_type": "execute_result",
          "data": {
            "text/plain": [
              "{'',\n",
              " 'Анализ данных в бизнесе',\n",
              " 'Дискретная оптимизация',\n",
              " 'Дополнительные главы прикладной статистики',\n",
              " 'Компьютерные сети',\n",
              " 'Матричные вычисления',\n",
              " 'Машинное обучение 2',\n",
              " 'Промышленное программирование на языке Java',\n",
              " 'Системы баз данных',\n",
              " 'Теория баз данных',\n",
              " 'Язык SQL'}"
            ]
          },
          "metadata": {},
          "execution_count": 537
        }
      ]
    },
    {
      "cell_type": "markdown",
      "metadata": {
        "id": "c5TmcNdI3JKs"
      },
      "source": [
        "### Визуализации"
      ]
    },
    {
      "cell_type": "markdown",
      "metadata": {
        "id": "74juA0bp3JKs"
      },
      "source": [
        "При работе с данными часто неудобно делать какие-то выводы, если смотреть на таблицу и числа в частности, поэтому важно уметь визуализировать данные. Здесь будут описаны ключевые правила оформления графиков для **всех** домашних заданий.\n",
        "\n",
        "У matplotlib, конечно же, есть [документация](https://matplotlib.org/users/index.html) с большим количеством [примеров](https://matplotlib.org/examples/), но для начала достаточно знать про несколько основных типов графиков:\n",
        "- plot — обычный поточечный график, которым можно изображать кривые или отдельные точки;\n",
        "- hist — гистограмма, показывающая распределение некоторой величины;\n",
        "- scatter — график, показывающий взаимосвязь двух величин;\n",
        "- bar — столбцовый график, показывающий взаимосвязь количественной величины от категориальной.\n",
        "\n",
        "В этом задании вы попробуете построить один из них. Не забывайте про базовые принципы построения приличных графиков:\n",
        "- оси должны быть подписаны, причём не слишком мелко;\n",
        "- у графика должно быть название;\n",
        "- если изображено несколько графиков, то необходима поясняющая легенда;\n",
        "- все линии на графиках должны быть чётко видны (нет похожих цветов или цветов, сливающихся с фоном);\n",
        "- если возможно сделать график интерактивным, это обычно того стоит - помогает решить проблемы с читаемостью;\n",
        "- если отображена величина, имеющая очевидный диапазон значений (например, проценты могут быть от 0 до 100), то желательно масштабировать ось на весь диапазон значений (исключением является случай, когда вам необходимо показать малое отличие, которое незаметно в таких масштабах);\n",
        "- сетка на графике помогает оценить значения в точках на глаз, это обычно полезно, поэтому лучше ее отрисовывать;\n",
        "- если распределение на гистограмме имеет тяжёлые хвосты, лучше использовать логарифмическую шкалу.\n",
        "\n",
        "Еще одна билиотека для визуализации: [seaborn](https://jakevdp.github.io/PythonDataScienceHandbook/04.14-visualization-with-seaborn.html). Это настройка над matplotlib, иногда удобнее и красивее делать визуализации через неё.\n",
        "\n",
        "У `polars` уже есть встроенные инструменты для визуализации, в частности интерактивные на базе [hvplot](https://docs.pola.rs/user-guide/misc/visualization/#plotly). Из её преимуществ - хорошая производительность при работе с большими данными, есть поддержка самых популярных видов графиков, но синтаксис не самый удобный"
      ]
    },
    {
      "cell_type": "markdown",
      "metadata": {
        "id": "QkH7afPm3JKs"
      },
      "source": [
        "#### 7. [0.5 балла] Постройте график средних рейтингов по дням получения ответов (bar plot)."
      ]
    },
    {
      "cell_type": "code",
      "source": [
        "import matplotlib.pyplot as plt"
      ],
      "metadata": {
        "id": "WCexmZqNEDAK"
      },
      "execution_count": 538,
      "outputs": []
    },
    {
      "cell_type": "code",
      "source": [
        "agg_dates = df.with_columns(pl.col(\"timestamp\").str.strptime(pl.Date, \"%F %T\")).group_by('timestamp').agg(pl.col('rating').mean()).collect()\n",
        "\n",
        "plt.bar(agg_dates['timestamp'], agg_dates['rating'])\n",
        "plt.title('Средние рейтинги студентов по дням получения ответов')\n",
        "plt.xlabel(\"Даты\")\n",
        "plt.xticks(rotation=45)\n",
        "plt.ylabel(\"Средний рейтинг\")\n",
        "plt.grid()"
      ],
      "metadata": {
        "colab": {
          "base_uri": "https://localhost:8080/",
          "height": 523
        },
        "id": "o6ja58N0MwEI",
        "outputId": "14cbcd2f-f82f-4dd0-9e76-0614814844be"
      },
      "execution_count": 539,
      "outputs": [
        {
          "output_type": "display_data",
          "data": {
            "text/plain": [
              "<Figure size 640x480 with 1 Axes>"
            ],
            "image/png": "[encoded data removed]"
          },
          "metadata": {}
        }
      ]
    },
    {
      "cell_type": "markdown",
      "metadata": {
        "id": "bZB_kTE63JKs"
      },
      "source": [
        "Сохраните график в формате pdf (так он останется векторизованным) или html (тогда останется интерактивным)"
      ]
    },
    {
      "cell_type": "code",
      "source": [
        "plt.savefig('kek.pdf')"
      ],
      "metadata": {
        "colab": {
          "base_uri": "https://localhost:8080/",
          "height": 32
        },
        "id": "YGW2Gq1BSuUr",
        "outputId": "f5ee8112-e126-49fe-a54c-bd6593c595f3"
      },
      "execution_count": 540,
      "outputs": [
        {
          "output_type": "display_data",
          "data": {
            "text/plain": [
              "<Figure size 640x480 with 0 Axes>"
            ]
          },
          "metadata": {}
        }
      ]
    },
    {
      "cell_type": "markdown",
      "metadata": {
        "id": "EvWtDBRp3JKt"
      },
      "source": [
        "### 2. Распределение студентов по курсам."
      ]
    },
    {
      "cell_type": "markdown",
      "metadata": {
        "id": "zTPksBGL3JKt"
      },
      "source": [
        "<span style=\"color:red\">!!!ВНИМАТЕЛЬНО ИЗУЧИТЕ ТЕКСТ НИЖЕ!!!</span>.\n",
        "\n",
        "<span style=\"color:orange\">Если во время выполнения заданий у вас вознинут вопросы -- еще раз перечитайте текст целиком, скорее всего ответы уже содержатся в нем.</span>\n",
        "\n",
        "Теперь вам нужно распределить студентов по осенним курсам по выбору, учитывая их предпочтения."
      ]
    },
    {
      "cell_type": "markdown",
      "metadata": {
        "id": "S5lk67UA3JKt"
      },
      "source": [
        "## 📌 **Алгоритм распределения студентов по курсам**:\n",
        "1. По умолчанию на каждой дисциплине по выбору у 3 и 4 курсов может учиться 1 группа (до 30 студентов). Исключения описаны ниже. На blended-дисциплинах для четверокурсников количество мест не ограничено.\n",
        "2. Проводится первая волна отбора. Для каждой дисциплины формируется список тех, кто указал её первым приоритетом (если студент должен выбрать два курса по выбору, то для него дисциплины, которые он указал первым и вторым приоритетом, рассматриваются как дисциплины первого приоритета). Если желающих больше, чем мест, то выбирается топ по перцентилю рейтинга.\n",
        "3. На дисциплинах, где остались места после первой волны, формируются списки тех, кто выбрал их вторым приоритетом, и места заполняются лучшими по перцентили рейтинга студентами. После этого проводится такая же процедура для дисциплин третьего приоритета.\n",
        "4. Если студент не попал на необходимое количество курсов по итогам трёх волн, с ним связывается учебный офис и решает вопрос в индивидуальном порядке."
      ]
    },
    {
      "cell_type": "markdown",
      "metadata": {
        "id": "Ux4yMPan3JKu"
      },
      "source": [
        "## ☝️ **Обращаем ваше внимание на следующие детали:**\n",
        "\n",
        "- Конкурс на каждый курс общий для 3-го и 4-го курса\n",
        "\n",
        "- По умолчанию студент выбирает один осенний и один весенний курс по выбору, а также четверокурсники выбирают один blended-курс. Студенты групп 17-го года специализаций МОП и ТИ выбирают по 2 осенних и 2 весенних курса по выбору, также студенты групп 18' специализации МИ выбирают 2 осенних курса. <i>Для студентов, которые выбирают 2 курса (например, осенних) первый приоритет — <code>fall_1</code> и <code>fall_2</code>, второй приоритет — <code>fall_3</code>. Такие студенты участвуют только в двух волнах отбора</i>.\n",
        "\n",
        "- Студенты специализации МОП не могут выбрать весенним курсом по выбору Машинное обучение 2. **Если студент специализации МОП выбрал Машинное обучение 2, то его приоритеты сдвигаются.** Из-за совпадений первого и второго курса по выбору двигать приоритеты не надо.\n",
        "\n",
        "- Blended-курсы не трогайте, по ним не надо распределять, на другие курсы они никак не влияют.\n",
        "\n",
        "- Заведомо известно, что в процессе распределения не возникнет ситуации, когда на одно место претендуют студенты с одинаковым перцентилем.\n",
        "\n",
        "- Постарайтесь воздержаться от использования циклов там, где это возможно. <i>Допустимо итерироваться по <b>курсам</b>, на которые проводится отбор, и по <b>волнам</b> отбора. Если вы придумаете, как обойтись и без этих циклов, то на усмотрение проверяющего могут быть добавлены бонусные баллы. <b>Дублирование кода не признается успешным избавлением от циклов</b></i>\n",
        "\n",
        "- На выходе ожидается файл res_fall.csv с результатами распределения на осенние курсы по выбору. Файл должен быть следующего формата:\n",
        "\n",
        "    * три столбца: ID, course1, course2\n",
        "    \n",
        "    * Если студент не попал на курс, но должен был, то вместо названия курса в ячейке должна быть строка \"???\"\n",
        "    \n",
        "    * Если студент должен выбрать только один курс, то в колонке course2 для него должна стоять строка \"-\"\n",
        "\n",
        "    * Если студент должен выбрать два курса по выбору, то порядок в колонках course1 и course2 не важен.\n",
        "    \n",
        "    * Формат csv: для сохранения воспользуйтесь `df.write_csv('solution.csv')`"
      ]
    },
    {
      "cell_type": "markdown",
      "metadata": {
        "id": "q4b6w14cS_rW"
      },
      "source": [
        "Для работы вам могут понадобиться следующие данные:\n",
        "\n",
        "- Результаты опроса (вы уже использовали этот файл в первой части задания, но на всякий случай ссылка: https://www.dropbox.com/s/f4rm8sjc3v99p0m/_end_seminar.xlsx?dl=0)\n",
        "\n",
        "- Соответствие номеров групп специализациям:\n",
        "\n",
        "    * 171, 172 - МОП; 173 - ТИ; 174 — АДИС; 175, 176 — РС; 177 — АПР\n",
        "    \n",
        "    * У студентов 18-го года номера групп соответствуют номерам до распределения по специализациям. Это означает, что по номеру группы 18* нельзя однозначно определить специализацию студента. При этом в рамках распределения важно знать информацию только о двух из них: МОП и МИ. Эти знание можно получить из колонок 'is_ml_student ' и 'is_mi' соответственно.\n",
        "\n",
        "- Ограничения по количеству мест на курсах по выбору:\n",
        "\n",
        "    * Осенние: везде 30 мест, кроме Statistical Learning Theory (60 мест), Высокопроизводительных вычислений (60 мест), Анализа неструктурированных данных ($\\infty$ мест)\n",
        "\n",
        "    * Весенние: везде 30 мест, кроме Обучения с подкреплением (60 мест), Анализа данных в бизнесе (60 мест).\n",
        "\n",
        "\n",
        "Кстати, убедитесь, что в данных больше нет пропусков и повторных записей и сериализуйте датафрейм"
      ]
    },
    {
      "cell_type": "markdown",
      "metadata": {
        "id": "vOVE6Do13JKu"
      },
      "source": [
        "#### 0. Проверка\n",
        "\n",
        "Для начала давайте убедимся, что вы успешно выполнили задания первой части и проверим ваши данные на наличие пропусков и повторов:"
      ]
    },
    {
      "cell_type": "code",
      "execution_count": 541,
      "metadata": {
        "id": "tNeCa71zHEe8"
      },
      "outputs": [],
      "source": [
        "df = df.collect(streaming=True)\n",
        "\n",
        "assert df.shape[0] == 347, \"В таблице остались повторы или потеряны данные\"\n",
        "assert df.null_count().sum_horizontal().item() == 0, \"В таблице остались про?пуски\""
      ]
    },
    {
      "cell_type": "markdown",
      "metadata": {
        "id": "H7qZDN0y3JKu"
      },
      "source": [
        "Если вы не получили AssertionError, то можете продолжать."
      ]
    },
    {
      "cell_type": "markdown",
      "metadata": {
        "id": "y81hqcoZ3JKu"
      },
      "source": [
        "#### 1. [1 балл] Создайте новый признак, обозначающий, сколько осенних курсов должен выбрать студент\n",
        "\n",
        "В этом вам может помочь информация о специализации и группе студента."
      ]
    },
    {
      "cell_type": "code",
      "source": [
        "df = df.with_columns(\n",
        "    pl.when(pl.col(\"17_group\").is_in([\"171\", \"172\", \"173\"])) # 171 и 172 - моп, 173 - ти\n",
        "    .then(2)\n",
        "    .when((pl.col(\"18_group\")!=0)&(pl.col('is_mi') == 1)) # 18 год ми\n",
        "    .then(2)\n",
        "    .otherwise(1)  # остальные выбирают по одному кпв\n",
        "    .alias(\"to_select\"))\n",
        "\n",
        "df.head(3)"
      ],
      "metadata": {
        "colab": {
          "base_uri": "https://localhost:8080/",
          "height": 322
        },
        "id": "4em9_PVCXmuw",
        "outputId": "dca31a7b-14a4-4fab-87b5-eaaf888aae8f"
      },
      "execution_count": 542,
      "outputs": [
        {
          "output_type": "execute_result",
          "data": {
            "text/plain": [
              "shape: (3, 17)\n",
              "┌─────────────┬─────────────┬────────┬──────────┬───┬──────────┬─────────┬─────────────┬───────────┐\n",
              "│ timestamp   ┆ id          ┆ rating ┆ 18_group ┆ … ┆ 17_group ┆ blended ┆ is_ml_stude ┆ to_select │\n",
              "│ ---         ┆ ---         ┆ ---    ┆ ---      ┆   ┆ ---      ┆ ---     ┆ nt          ┆ ---       │\n",
              "│ str         ┆ str         ┆ i64    ┆ i64      ┆   ┆ str      ┆ str     ┆ ---         ┆ i32       │\n",
              "│             ┆             ┆        ┆          ┆   ┆          ┆         ┆ bool        ┆           │\n",
              "╞═════════════╪═════════════╪════════╪══════════╪═══╪══════════╪═════════╪═════════════╪═══════════╡\n",
              "│ 2020-05-24  ┆ 9d19b0d5f4f ┆ 695    ┆ 188      ┆ … ┆          ┆         ┆ false       ┆ 1         │\n",
              "│ 01:23:31    ┆ c8d7edc2258 ┆        ┆          ┆   ┆          ┆         ┆             ┆           │\n",
              "│             ┆ 406f872c…   ┆        ┆          ┆   ┆          ┆         ┆             ┆           │\n",
              "│ 2020-05-18  ┆ 2f8a4892424 ┆ 656    ┆ 187      ┆ … ┆          ┆         ┆ false       ┆ 1         │\n",
              "│ 20:21:28    ┆ 9d223165918 ┆        ┆          ┆   ┆          ┆         ┆             ┆           │\n",
              "│             ┆ 3d7654ed…   ┆        ┆          ┆   ┆          ┆         ┆             ┆           │\n",
              "│ 2020-05-15  ┆ 86d929f6fd7 ┆ 761    ┆ 181      ┆ … ┆          ┆         ┆ false       ┆ 1         │\n",
              "│ 21:34:32    ┆ 41e56e93cee ┆        ┆          ┆   ┆          ┆         ┆             ┆           │\n",
              "│             ┆ 59002988…   ┆        ┆          ┆   ┆          ┆         ┆             ┆           │\n",
              "└─────────────┴─────────────┴────────┴──────────┴───┴──────────┴─────────┴─────────────┴───────────┘"
            ],
            "text/html": [
              "<div><style>\n",
              ".dataframe > thead > tr,\n",
              ".dataframe > tbody > tr {\n",
              "  text-align: right;\n",
              "  white-space: pre-wrap;\n",
              "}\n",
              "</style>\n",
              "<small>shape: (3, 17)</small><table border=\"1\" class=\"dataframe\"><thead><tr><th>timestamp</th><th>id</th><th>rating</th><th>18_group</th><th>is_mi</th><th>fall_1</th><th>fall_2</th><th>fall_3</th><th>spring_1</th><th>spring_2</th><th>spring_3</th><th>is_first_time</th><th>percentile</th><th>17_group</th><th>blended</th><th>is_ml_student</th><th>to_select</th></tr><tr><td>str</td><td>str</td><td>i64</td><td>i64</td><td>i64</td><td>str</td><td>str</td><td>str</td><td>str</td><td>str</td><td>str</td><td>str</td><td>f64</td><td>str</td><td>str</td><td>bool</td><td>i32</td></tr></thead><tbody><tr><td>&quot;2020-05-24 01:23:31&quot;</td><td>&quot;9d19b0d5f4fc8d7edc2258406f872c…</td><td>695</td><td>188</td><td>0</td><td>&quot;Безопасность компьютерных сист…</td><td>&quot;Язык SQL&quot;</td><td>&quot;Высокопроизводительные вычисле…</td><td>&quot;Компьютерные сети&quot;</td><td>&quot;Дискретная оптимизация&quot;</td><td>&quot;Численные методы&quot;</td><td>&quot;&quot;</td><td>0.197309</td><td>&quot;&quot;</td><td>&quot;&quot;</td><td>false</td><td>1</td></tr><tr><td>&quot;2020-05-18 20:21:28&quot;</td><td>&quot;2f8a48924249d2231659183d7654ed…</td><td>656</td><td>187</td><td>0</td><td>&quot;Высокопроизводительные вычисле…</td><td>&quot;Безопасность компьютерных сист…</td><td>&quot;Statistical Learning Theory&quot;</td><td>&quot;Машинное обучение 2&quot;</td><td>&quot;Системы баз данных&quot;</td><td>&quot;Компьютерные сети&quot;</td><td>&quot;Да&quot;</td><td>0.38565</td><td>&quot;&quot;</td><td>&quot;&quot;</td><td>false</td><td>1</td></tr><tr><td>&quot;2020-05-15 21:34:32&quot;</td><td>&quot;86d929f6fd741e56e93cee59002988…</td><td>761</td><td>181</td><td>0</td><td>&quot;Сбор и обработка данных с помо…</td><td>&quot;Сбор и обработка данных с помо…</td><td>&quot;Сбор и обработка данных с помо…</td><td>&quot;Дополнительные главы прикладно…</td><td>&quot;Дополнительные главы прикладно…</td><td>&quot;Дополнительные главы прикладно…</td><td>&quot;Да&quot;</td><td>0.008969</td><td>&quot;&quot;</td><td>&quot;&quot;</td><td>false</td><td>1</td></tr></tbody></table></div>"
            ]
          },
          "metadata": {},
          "execution_count": 542
        }
      ]
    },
    {
      "cell_type": "markdown",
      "metadata": {
        "id": "hapnRDPU3JKv"
      },
      "source": [
        "Проверка:"
      ]
    },
    {
      "cell_type": "code",
      "execution_count": 543,
      "metadata": {
        "id": "3qK9-jmP3JKv"
      },
      "outputs": [],
      "source": [
        "col_name = \"to_select\"\n",
        "\n",
        "ids = [\n",
        "    \"2662600c2c37e11e62f6ee0b88452f22\",\n",
        "    \"d555d2805e1d93d4f023e57dc4c8f403\",\n",
        "    \"8fe79f84f36e3a5d2d6745621321302c\",\n",
        "    \"e4caca755ee0bdd711e18fb8084958b5\",\n",
        "]\n",
        "assert (\n",
        "    df.filter(pl.col(\"id\").is_in(ids)).sort(\"id\")[col_name] == [2, 1, 2, 1]\n",
        ").all()"
      ]
    },
    {
      "cell_type": "markdown",
      "metadata": {
        "id": "kty-lzOJ3JKv"
      },
      "source": [
        "#### 2. [2 балла] Распределите студентов в соответствии с первым приоритетом"
      ]
    },
    {
      "cell_type": "code",
      "source": [
        "# здесь лежат все заявки от студентов, первый приоритет, сразу отберем перцентиль\n",
        "\n",
        "w_1 = pl.concat([df.select(pl.col(['id', 'fall_1', 'percentile'])),\n",
        "                     (df.filter(pl.col('to_select')==2).select(pl.col(['id', 'fall_2', 'percentile'])).rename({\"fall_2\": \"fall_1\"}))])\n",
        "w_1 = w_1.rename({'fall_1': 'course'})"
      ],
      "metadata": {
        "id": "fG1cI9vOB3Mt"
      },
      "execution_count": 544,
      "outputs": []
    },
    {
      "cell_type": "code",
      "source": [
        "applied_total = w_1.sort(by=[\"percentile\"]).group_by('course').agg(pl.col('percentile', 'id')).with_columns([\n",
        "    pl.when(pl.col(\"course\").is_in([\"Statistical Learning Theory\", \"Высокопроизводительные вычисления\"]))\n",
        "    .then(60)\n",
        "    .when(pl.col(\"course\").is_in([\"Анализ неструктурированных данных\"]))\n",
        "    .then(10000) # тут нет ограничения, inf\n",
        "    .otherwise(30)\n",
        "    .alias(\"to_enroll\")]).join(w_1.group_by('course').agg(pl.col('id').alias('applied').count()), on = 'course')\n",
        "\n",
        "applied_total.head(3) # здесь сгруппировали по кпв + инфа по количеству мест"
      ],
      "metadata": {
        "id": "5EpfX3hZdvwo",
        "colab": {
          "base_uri": "https://localhost:8080/",
          "height": 236
        },
        "outputId": "fa23a51e-186d-45b1-8dd2-dc193a00a86a"
      },
      "execution_count": 545,
      "outputs": [
        {
          "output_type": "execute_result",
          "data": {
            "text/plain": [
              "shape: (3, 5)\n",
              "┌─────────────────────────┬─────────────────────────┬────────────────────────┬───────────┬─────────┐\n",
              "│ course                  ┆ percentile              ┆ id                     ┆ to_enroll ┆ applied │\n",
              "│ ---                     ┆ ---                     ┆ ---                    ┆ ---       ┆ ---     │\n",
              "│ str                     ┆ list[f64]               ┆ list[str]              ┆ i32       ┆ u32     │\n",
              "╞═════════════════════════╪═════════════════════════╪════════════════════════╪═══════════╪═════════╡\n",
              "│ Матричные вычисления    ┆ [0.004484, 0.049327, …  ┆ [\"e0ca1a9548af9a3f9842 ┆ 30        ┆ 15      │\n",
              "│                         ┆ 0.93273…                ┆ 8c62420a…              ┆           ┆         │\n",
              "│ Теория баз данных       ┆ [0.035874, 0.085202, …  ┆ [\"651f2fa7d270b436246d ┆ 30        ┆ 14      │\n",
              "│                         ┆ 0.92376…                ┆ dd7d0588…              ┆           ┆         │\n",
              "│ Байесовские методы      ┆ [0.014493, 0.021739, …  ┆ [\"67e4ec4fe5c060181569 ┆ 30        ┆ 24      │\n",
              "│ машинного о…            ┆ 0.90579…                ┆ 2fbd6d40…              ┆           ┆         │\n",
              "└─────────────────────────┴─────────────────────────┴────────────────────────┴───────────┴─────────┘"
            ],
            "text/html": [
              "<div><style>\n",
              ".dataframe > thead > tr,\n",
              ".dataframe > tbody > tr {\n",
              "  text-align: right;\n",
              "  white-space: pre-wrap;\n",
              "}\n",
              "</style>\n",
              "<small>shape: (3, 5)</small><table border=\"1\" class=\"dataframe\"><thead><tr><th>course</th><th>percentile</th><th>id</th><th>to_enroll</th><th>applied</th></tr><tr><td>str</td><td>list[f64]</td><td>list[str]</td><td>i32</td><td>u32</td></tr></thead><tbody><tr><td>&quot;Матричные вычисления&quot;</td><td>[0.004484, 0.049327, … 0.932735]</td><td>[&quot;e0ca1a9548af9a3f98428c62420aa484&quot;, &quot;cef7df6fa798b759b2a5763b7d0c5d38&quot;, … &quot;d9f0e5ebc6718202b86eaee2de1c697b&quot;]</td><td>30</td><td>15</td></tr><tr><td>&quot;Теория баз данных&quot;</td><td>[0.035874, 0.085202, … 0.923767]</td><td>[&quot;651f2fa7d270b436246ddd7d05880bfa&quot;, &quot;d6c079f1ff869c8c84fa3ed30bd67e0e&quot;, … &quot;bb94ed5af639819dac15574197c80da3&quot;]</td><td>30</td><td>14</td></tr><tr><td>&quot;Байесовские методы машинного о…</td><td>[0.014493, 0.021739, … 0.905797]</td><td>[&quot;67e4ec4fe5c0601815692fbd6d403fb7&quot;, &quot;b3cbd3541c0cf66ff4eb2bc1596bb149&quot;, … &quot;98c5a2548d93f26bd4195466e93178b3&quot;]</td><td>30</td><td>24</td></tr></tbody></table></div>"
            ]
          },
          "metadata": {},
          "execution_count": 545
        }
      ]
    },
    {
      "cell_type": "code",
      "source": [
        "# отбор согласно свободному количеству мест на каждом курсе\n",
        "def selection(applied_total):\n",
        "  enrolled_total = []\n",
        "\n",
        "  for i in range(len(applied_total)):\n",
        "      left = applied_total['to_enroll'][i]\n",
        "      new_percentile = applied_total['percentile'][i][:left]\n",
        "      new_id = applied_total['id'][i][:left]\n",
        "      new_course= pl.DataFrame({\n",
        "          \"course\": [applied_total['course'][i]],\n",
        "          'id': [new_id],\n",
        "          \"percentile\": [new_percentile]})\n",
        "      enrolled_total.append(new_course)\n",
        "  enrolled_total = pl.concat(enrolled_total)\n",
        "  return enrolled_total\n",
        "\n",
        "enrolled_total = selection(applied_total)\n",
        "enrolled_total.head(3)\n",
        "# по итогу получаем таблицу enrolled_total с требуемым количеством студентов на каждый кпв"
      ],
      "metadata": {
        "colab": {
          "base_uri": "https://localhost:8080/",
          "height": 236
        },
        "id": "tQgyt8CjhPBX",
        "outputId": "7aaaa234-e4b3-4d1b-ec9b-933ed2c322ff"
      },
      "execution_count": 546,
      "outputs": [
        {
          "output_type": "execute_result",
          "data": {
            "text/plain": [
              "shape: (3, 3)\n",
              "┌─────────────────────────────────┬─────────────────────────────────┬────────────────────────┐\n",
              "│ course                          ┆ id                              ┆ percentile             │\n",
              "│ ---                             ┆ ---                             ┆ ---                    │\n",
              "│ str                             ┆ list[str]                       ┆ list[f64]              │\n",
              "╞═════════════════════════════════╪═════════════════════════════════╪════════════════════════╡\n",
              "│ Матричные вычисления            ┆ [\"e0ca1a9548af9a3f98428c62420a… ┆ [0.004484, 0.049327, … │\n",
              "│                                 ┆                                 ┆ 0.93273…               │\n",
              "│ Теория баз данных               ┆ [\"651f2fa7d270b436246ddd7d0588… ┆ [0.035874, 0.085202, … │\n",
              "│                                 ┆                                 ┆ 0.92376…               │\n",
              "│ Байесовские методы машинного о… ┆ [\"67e4ec4fe5c0601815692fbd6d40… ┆ [0.014493, 0.021739, … │\n",
              "│                                 ┆                                 ┆ 0.90579…               │\n",
              "└─────────────────────────────────┴─────────────────────────────────┴────────────────────────┘"
            ],
            "text/html": [
              "<div><style>\n",
              ".dataframe > thead > tr,\n",
              ".dataframe > tbody > tr {\n",
              "  text-align: right;\n",
              "  white-space: pre-wrap;\n",
              "}\n",
              "</style>\n",
              "<small>shape: (3, 3)</small><table border=\"1\" class=\"dataframe\"><thead><tr><th>course</th><th>id</th><th>percentile</th></tr><tr><td>str</td><td>list[str]</td><td>list[f64]</td></tr></thead><tbody><tr><td>&quot;Матричные вычисления&quot;</td><td>[&quot;e0ca1a9548af9a3f98428c62420aa484&quot;, &quot;cef7df6fa798b759b2a5763b7d0c5d38&quot;, … &quot;d9f0e5ebc6718202b86eaee2de1c697b&quot;]</td><td>[0.004484, 0.049327, … 0.932735]</td></tr><tr><td>&quot;Теория баз данных&quot;</td><td>[&quot;651f2fa7d270b436246ddd7d05880bfa&quot;, &quot;d6c079f1ff869c8c84fa3ed30bd67e0e&quot;, … &quot;bb94ed5af639819dac15574197c80da3&quot;]</td><td>[0.035874, 0.085202, … 0.923767]</td></tr><tr><td>&quot;Байесовские методы машинного о…</td><td>[&quot;67e4ec4fe5c0601815692fbd6d403fb7&quot;, &quot;b3cbd3541c0cf66ff4eb2bc1596bb149&quot;, … &quot;98c5a2548d93f26bd4195466e93178b3&quot;]</td><td>[0.014493, 0.021739, … 0.905797]</td></tr></tbody></table></div>"
            ]
          },
          "metadata": {},
          "execution_count": 546
        }
      ]
    },
    {
      "cell_type": "code",
      "source": [
        "selected = enrolled_total.explode(['id']) # вытаскиваем айди из списков\n",
        "res = selected.group_by('id').agg('course').join(df['id', 'to_select'], on = 'id').join(\n",
        "    selected.group_by('id').len(), on = 'id')"
      ],
      "metadata": {
        "id": "j0rq2Td8Sxps"
      },
      "execution_count": 547,
      "outputs": []
    },
    {
      "cell_type": "code",
      "source": [
        "# здесь будем обратывать строки таблицы res\n",
        "def wi_df(df):\n",
        "# сгруппировали по айди, добавили колонки с указанием количества выбранных курсов в первую волну\n",
        "# так же перенесли колонку с информацией о количестве курсов, которое надо взять\n",
        "  df = df.with_columns([\n",
        "    pl.when((pl.col('len') == 1)&(pl.col('to_select') == 2))\n",
        "      .then(pl.concat_list(pl.col('course'), pl.lit('???')))\n",
        "\n",
        "      .when((pl.col('len') == 1)&(pl.col('to_select') == 1))\n",
        "      .then(pl.concat_list(pl.col('course'), pl.lit('-')))\n",
        "\n",
        "      .otherwise(pl.col('course'))])\n",
        "  return df\n",
        "\n",
        "# после первой волны получаем такое распределение\n",
        "w1_df = wi_df(res)\n",
        "\n",
        "# далее надо разбить курсы в списках на 2 колонки\n",
        "df_wave_1 = (pl.concat([\n",
        "    pl.DataFrame({\"id\": w1_df['id']}),\n",
        "    pl.DataFrame(w1_df['course'].to_list(), schema=[\"course1\", \"course2\"])], how=\"horizontal\")).sort(by = 'id')\n",
        "print(df_wave_1.shape)\n",
        "df_wave_1.head(3)"
      ],
      "metadata": {
        "colab": {
          "base_uri": "https://localhost:8080/",
          "height": 256
        },
        "id": "l17csIYHchF7",
        "outputId": "cd528922-b2ba-49ac-8609-b4f3db3d6134"
      },
      "execution_count": 548,
      "outputs": [
        {
          "output_type": "stream",
          "name": "stdout",
          "text": [
            "(266, 3)\n"
          ]
        },
        {
          "output_type": "stream",
          "name": "stderr",
          "text": [
            "/usr/lib/python3.10/functools.py:889: DataOrientationWarning: Row orientation inferred during DataFrame construction. Explicitly specify the orientation by passing `orient=\"row\"` to silence this warning.\n",
            "  return dispatch(args[0].__class__)(*args, **kw)\n"
          ]
        },
        {
          "output_type": "execute_result",
          "data": {
            "text/plain": [
              "shape: (3, 3)\n",
              "┌─────────────────────────────────┬─────────────────────────────────┬─────────┐\n",
              "│ id                              ┆ course1                         ┆ course2 │\n",
              "│ ---                             ┆ ---                             ┆ ---     │\n",
              "│ str                             ┆ str                             ┆ str     │\n",
              "╞═════════════════════════════════╪═════════════════════════════════╪═════════╡\n",
              "│ 01b072a0cdb45814fc4ab8ca3e621f… ┆ Анализ неструктурированных дан… ┆ ???     │\n",
              "│ 044e038535ae5d2ff037150b77fdc6… ┆ Безопасность компьютерных сист… ┆ -       │\n",
              "│ 04b88fcbe5ba58aa8369c7de5e574d… ┆ Безопасность компьютерных сист… ┆ -       │\n",
              "└─────────────────────────────────┴─────────────────────────────────┴─────────┘"
            ],
            "text/html": [
              "<div><style>\n",
              ".dataframe > thead > tr,\n",
              ".dataframe > tbody > tr {\n",
              "  text-align: right;\n",
              "  white-space: pre-wrap;\n",
              "}\n",
              "</style>\n",
              "<small>shape: (3, 3)</small><table border=\"1\" class=\"dataframe\"><thead><tr><th>id</th><th>course1</th><th>course2</th></tr><tr><td>str</td><td>str</td><td>str</td></tr></thead><tbody><tr><td>&quot;01b072a0cdb45814fc4ab8ca3e621f…</td><td>&quot;Анализ неструктурированных дан…</td><td>&quot;???&quot;</td></tr><tr><td>&quot;044e038535ae5d2ff037150b77fdc6…</td><td>&quot;Безопасность компьютерных сист…</td><td>&quot;-&quot;</td></tr><tr><td>&quot;04b88fcbe5ba58aa8369c7de5e574d…</td><td>&quot;Безопасность компьютерных сист…</td><td>&quot;-&quot;</td></tr></tbody></table></div>"
            ]
          },
          "metadata": {},
          "execution_count": 548
        }
      ]
    },
    {
      "cell_type": "markdown",
      "metadata": {
        "id": "YtFzmI0q3JKv"
      },
      "source": [
        "Здесь для проверки приведена таблица, в которой есть 2 дополнительные колонки:\n",
        "    \n",
        "    1) is_first_place - является ли студент лучшим по перцентили хотя бы на одном из курсов, куда он был зачислен\n",
        "    (True / NaN)\n",
        "    \n",
        "    2) is_last_place  - является ли студент худшим по перцентили хотя бы на одном из курсов, куда он был зачислен (True / NaN)"
      ]
    },
    {
      "cell_type": "code",
      "execution_count": 549,
      "metadata": {
        "id": "Fdmh053Y3JKw"
      },
      "outputs": [],
      "source": [
        "!wget  -O '2_task_check.csv' -q 'https://www.dropbox.com/s/v8o2zzq3iz5gc9w/_2_task_check.csv?dl=0'\n",
        "check_df = pl.read_csv('2_task_check.csv')"
      ]
    },
    {
      "cell_type": "code",
      "source": [
        "check_df.head(3)"
      ],
      "metadata": {
        "colab": {
          "base_uri": "https://localhost:8080/",
          "height": 272
        },
        "id": "0K41cgCpc_UO",
        "outputId": "e65e87fd-783f-4ad5-a9fb-0f216827cd07"
      },
      "execution_count": 550,
      "outputs": [
        {
          "output_type": "execute_result",
          "data": {
            "text/plain": [
              "shape: (3, 18)\n",
              "┌────────────┬────────────┬────────┬──────────┬───┬─────────┬────────────┬────────────┬────────────┐\n",
              "│ timestamp  ┆ id         ┆ rating ┆ 18_group ┆ … ┆ blended ┆ is_ml_stud ┆ is_first_p ┆ is_last_pl │\n",
              "│ ---        ┆ ---        ┆ ---    ┆ ---      ┆   ┆ ---     ┆ ent        ┆ lace       ┆ ace        │\n",
              "│ str        ┆ str        ┆ i64    ┆ f64      ┆   ┆ str     ┆ ---        ┆ ---        ┆ ---        │\n",
              "│            ┆            ┆        ┆          ┆   ┆         ┆ f64        ┆ bool       ┆ bool       │\n",
              "╞════════════╪════════════╪════════╪══════════╪═══╪═════════╪════════════╪════════════╪════════════╡\n",
              "│ 2020-05-15 ┆ 93ff79a51c ┆ 698    ┆ 181.0    ┆ … ┆ null    ┆ 0.0        ┆ true       ┆ null       │\n",
              "│ 01:12:50.5 ┆ d602f1dd30 ┆        ┆          ┆   ┆         ┆            ┆            ┆            │\n",
              "│ 43         ┆ 28ba2c1295 ┆        ┆          ┆   ┆         ┆            ┆            ┆            │\n",
              "│            ┆ …          ┆        ┆          ┆   ┆         ┆            ┆            ┆            │\n",
              "│ 2020-05-15 ┆ 26b01b1c4c ┆ 647    ┆ 181.0    ┆ … ┆ null    ┆ 0.0        ┆ null       ┆ null       │\n",
              "│ 02:46:48.0 ┆ d5656bab18 ┆        ┆          ┆   ┆         ┆            ┆            ┆            │\n",
              "│ 66         ┆ d24c548834 ┆        ┆          ┆   ┆         ┆            ┆            ┆            │\n",
              "│            ┆ …          ┆        ┆          ┆   ┆         ┆            ┆            ┆            │\n",
              "│ 2020-05-15 ┆ 30f3653fc1 ┆ 624    ┆ 185.0    ┆ … ┆ null    ┆ 0.0        ┆ null       ┆ null       │\n",
              "│ 03:12:41.4 ┆ 76d54e89ac ┆        ┆          ┆   ┆         ┆            ┆            ┆            │\n",
              "│ 80         ┆ 3179c455c6 ┆        ┆          ┆   ┆         ┆            ┆            ┆            │\n",
              "│            ┆ …          ┆        ┆          ┆   ┆         ┆            ┆            ┆            │\n",
              "└────────────┴────────────┴────────┴──────────┴───┴─────────┴────────────┴────────────┴────────────┘"
            ],
            "text/html": [
              "<div><style>\n",
              ".dataframe > thead > tr,\n",
              ".dataframe > tbody > tr {\n",
              "  text-align: right;\n",
              "  white-space: pre-wrap;\n",
              "}\n",
              "</style>\n",
              "<small>shape: (3, 18)</small><table border=\"1\" class=\"dataframe\"><thead><tr><th>timestamp</th><th>id</th><th>rating</th><th>18_group</th><th>is_mi</th><th>fall_1</th><th>fall_2</th><th>fall_3</th><th>spring_1</th><th>spring_2</th><th>spring_3</th><th>is_first_time</th><th>percentile</th><th>17_group</th><th>blended</th><th>is_ml_student</th><th>is_first_place</th><th>is_last_place</th></tr><tr><td>str</td><td>str</td><td>i64</td><td>f64</td><td>f64</td><td>str</td><td>str</td><td>str</td><td>str</td><td>str</td><td>str</td><td>str</td><td>f64</td><td>f64</td><td>str</td><td>f64</td><td>bool</td><td>bool</td></tr></thead><tbody><tr><td>&quot;2020-05-15 01:12:50.543&quot;</td><td>&quot;93ff79a51cd602f1dd3028ba2c1295…</td><td>698</td><td>181.0</td><td>0.0</td><td>&quot;Язык SQL&quot;</td><td>&quot;Высокопроизводительные вычисле…</td><td>&quot;Матричные вычисления&quot;</td><td>&quot;Дискретная оптимизация&quot;</td><td>&quot;Численные методы&quot;</td><td>&quot;Машинное обучение 2&quot;</td><td>&quot;Да&quot;</td><td>0.183857</td><td>0.0</td><td>null</td><td>0.0</td><td>true</td><td>null</td></tr><tr><td>&quot;2020-05-15 02:46:48.066&quot;</td><td>&quot;26b01b1c4cd5656bab18d24c548834…</td><td>647</td><td>181.0</td><td>0.0</td><td>&quot;Высокопроизводительные вычисле…</td><td>&quot;Безопасность компьютерных сист…</td><td>&quot;Язык SQL&quot;</td><td>&quot;Дискретная оптимизация&quot;</td><td>&quot;Численные методы&quot;</td><td>&quot;Машинное обучение 2&quot;</td><td>&quot;Нет&quot;</td><td>0.426009</td><td>0.0</td><td>null</td><td>0.0</td><td>null</td><td>null</td></tr><tr><td>&quot;2020-05-15 03:12:41.480&quot;</td><td>&quot;30f3653fc176d54e89ac3179c455c6…</td><td>624</td><td>185.0</td><td>0.0</td><td>&quot;Безопасность компьютерных сист…</td><td>&quot;Матричные вычисления&quot;</td><td>&quot;Моделирование временных рядов&quot;</td><td>&quot;Дискретная оптимизация&quot;</td><td>&quot;Машинное обучение 2&quot;</td><td>&quot;Численные методы&quot;</td><td>&quot;Да&quot;</td><td>0.538117</td><td>0.0</td><td>null</td><td>0.0</td><td>null</td><td>null</td></tr></tbody></table></div>"
            ]
          },
          "metadata": {},
          "execution_count": 550
        }
      ]
    },
    {
      "cell_type": "markdown",
      "metadata": {
        "id": "eA-fUDln3JKw"
      },
      "source": [
        "После распределения студентов в соответствии с первым приоритетом добавьте в свой датафрейм аналогичные признаки и запустите проверку:"
      ]
    },
    {
      "cell_type": "code",
      "source": [
        "first = enrolled_total.explode('id', 'percentile').sort(by = 'percentile').unique(subset = 'course', keep = 'first')['id']\n",
        "lasts = enrolled_total.explode('id', 'percentile').sort(by = 'percentile').unique(subset = 'course', keep = 'last')['id']\n",
        "\n",
        "df = df.with_columns([\n",
        "    pl.when(pl.col(\"id\").is_in(first))\n",
        "    .then(True)\n",
        "    .otherwise(False)  # остальные выбирают по одному кпв\n",
        "    .alias(\"is_first_place\"),\n",
        "\n",
        "    pl.when(pl.col(\"id\").is_in(lasts))\n",
        "    .then(True)\n",
        "    .otherwise(False)  # остальные выбирают по одному кпв\n",
        "    .alias(\"is_last_place\")])"
      ],
      "metadata": {
        "id": "vrBcoIxbIk14"
      },
      "execution_count": 551,
      "outputs": []
    },
    {
      "cell_type": "code",
      "execution_count": 552,
      "metadata": {
        "id": "ueNXylC23JKw"
      },
      "outputs": [],
      "source": [
        "fir_col_name = 'is_first_place'\n",
        "last_col_name = 'is_last_place'\n",
        "\n",
        "assert (\n",
        "    check_df.sort(\"id\").select(\"is_first_place\", \"is_last_place\") ==\n",
        "    df.sort(\"id\").select(fir_col_name, last_col_name)\n",
        ").sum().rows() == [(10, 12)]"
      ]
    },
    {
      "cell_type": "markdown",
      "metadata": {
        "id": "qrPM6dpZ3JKw"
      },
      "source": [
        "#### 3. [2 балла] Проведите все три волны отбора студентов на курсы по выбору"
      ]
    },
    {
      "cell_type": "markdown",
      "source": [
        "Во вторую волну отбираем следующих коллег:\n",
        "\n",
        "1) 1 кпв: в первую волну не попал\n",
        "\n",
        "2) 2 кпв: в первую волну не попал\n",
        "\n",
        "3) 2 кпв: в первую волну взял часть\n",
        "\n",
        "У 1 кпв челов смотрим приоритет 2, у 2 кпв челов - приоритет 3"
      ],
      "metadata": {
        "id": "JQo_hW_1bXzO"
      }
    },
    {
      "cell_type": "code",
      "source": [
        "# пересчитаем количество мест на каждом курсе после первой волны\n",
        "to_enroll = applied_total.with_columns([\n",
        "    pl.when((pl.col(\"applied\")-pl.col('to_enroll'))>0)\n",
        "    .then(0)\n",
        "    .otherwise(pl.col(\"to_enroll\")-pl.col('applied'))\n",
        "    .alias(\"to_enroll\")])[['course', 'to_enroll']]"
      ],
      "metadata": {
        "id": "fO1rP8D0fOWC"
      },
      "execution_count": 553,
      "outputs": []
    },
    {
      "cell_type": "code",
      "source": [
        "ids = df_wave_1.filter(pl.col('course2')==\"???\")['id'] # сохраним айдишники тех, кто еще должен добрать кпв\n",
        "\n",
        "# согласно инфе выше отбираем нужных студентов\n",
        "w_2_1 = df.filter((pl.col('to_select')==1)&(~(pl.col('id').is_in(df_wave_1['id'])))).select(pl.col(['id', 'fall_2', 'percentile'])) # 1 кпв, ничего не взял\n",
        "w_2_2 = df.filter((pl.col('to_select')==2)&((pl.col('id').is_in(ids))|~(pl.col('id').is_in(df_wave_1['id'])))).select(\n",
        "    pl.col(['id', 'fall_3', 'percentile'])).rename({\"fall_3\": \"fall_2\"}) # здесь кейсы 2 и 3 объединены, 2 кпв студенты, кто-то взял 1, а кто-то 0 кпв\n",
        "\n",
        "# объединяем все заявки\n",
        "w_2 = pl.concat([w_2_1, w_2_2]).rename({'fall_2': 'course'})\n",
        "applied_total_2 = w_2.sort(by=[\"percentile\"]).group_by('course').agg(pl.col('percentile', 'id')).join(\n",
        "    to_enroll, on ='course').join(w_2.group_by('course').agg(pl.col('id').alias('applied').count()), on = 'course')"
      ],
      "metadata": {
        "id": "m0lePjKMCcMg"
      },
      "execution_count": 554,
      "outputs": []
    },
    {
      "cell_type": "code",
      "source": [
        "enrolled_total_2 = selection(applied_total_2)# применяем функцию, чтобы отобрать требуемое количество челов на курсы\n",
        "selected_2 = enrolled_total_2.explode(['id'])\n",
        "res_2 = selected_2.group_by('id').agg('course').join(df['id', 'to_select'], on = 'id').join(selected_2.group_by('id').len(), on = 'id')"
      ],
      "metadata": {
        "id": "ZMEADvm3QV_T"
      },
      "execution_count": 555,
      "outputs": []
    },
    {
      "cell_type": "code",
      "source": [
        "exist = res_2.filter(pl.col('id').is_in(ids))[['id', 'course']] # проверяем на наличие студентов, со знаком \"???\" во второй ячейке, это 2 кпв\n",
        "exist = exist.with_columns(pl.DataFrame(exist['course'].to_list(), schema=[\"course\"])) # вытаскиваем из списка строки\n",
        "\n",
        "# добавляем курсы, взятые во вторую волну к уже существующим айдишникам в таблице\n",
        "kkks = df_wave_1.join(exist, on='id', how='left')\n",
        "jj = kkks.with_columns(pl.col(\"course\").fill_null(pl.col(\"course2\")).alias(\"course2\"))\n",
        "jj = jj.drop('course')\n",
        "\n",
        "non_exist = res_2.filter(~(pl.col('id').is_in(ids))) # а эти студенты еще ничего не выбирали, новые в общем"
      ],
      "metadata": {
        "id": "X1S-N7hr12tK"
      },
      "execution_count": 556,
      "outputs": []
    },
    {
      "cell_type": "code",
      "source": [
        "w2_df = wi_df(non_exist)\n",
        "df_wave_2 = (pl.concat([\n",
        "    pl.DataFrame({\"id\": w2_df['id']}),\n",
        "    pl.DataFrame(w2_df['course'].to_list(), schema=[\"course1\", \"course2\"])], how=\"horizontal\")).sort(by = 'id')\n",
        "res_df = pl.concat([df_wave_1,df_wave_2])\n",
        "res_df.shape"
      ],
      "metadata": {
        "colab": {
          "base_uri": "https://localhost:8080/"
        },
        "id": "M7M3NKEgwdhy",
        "outputId": "0d34a9db-e22d-439e-d3cb-a9ac8072cc1d"
      },
      "execution_count": 557,
      "outputs": [
        {
          "output_type": "execute_result",
          "data": {
            "text/plain": [
              "(302, 3)"
            ]
          },
          "metadata": {},
          "execution_count": 557
        }
      ]
    },
    {
      "cell_type": "markdown",
      "source": [
        "Далее последний подход: третья волна, отбираем только по студентам с одним кпв"
      ],
      "metadata": {
        "id": "ZzcP2qQaHdZc"
      }
    },
    {
      "cell_type": "code",
      "source": [
        "to_enroll_3 = applied_total_2.with_columns([\n",
        "    pl.when((pl.col(\"applied\")-pl.col('to_enroll'))>0)\n",
        "    .then(0)\n",
        "    .otherwise(pl.col(\"to_enroll\")-pl.col('applied'))\n",
        "    .alias(\"to_enroll\")])[['course', 'to_enroll']]"
      ],
      "metadata": {
        "id": "sfWkpyWQXzRm"
      },
      "execution_count": 558,
      "outputs": []
    },
    {
      "cell_type": "code",
      "source": [
        "# рассматриваем только тех студентов, которым по плану надо выбрать 1 кпв, в третью волну челы с двумя кпв не участвуют\n",
        "w3_1 = df.filter((pl.col('to_select')==1)&(~(pl.col('id').is_in(res_df['id'])))).select(pl.col(['id', 'fall_3', 'percentile'])).rename({'fall_3': 'course'})\n",
        "\n",
        "# отбираем  заявки\n",
        "applied_total_3 = w3_1.sort(by=[\"percentile\"]).group_by('course').agg(pl.col('percentile', 'id')).join(\n",
        "    to_enroll_1, on ='course').join(w3_1.group_by('course').agg(pl.col('id').alias('applied').count()), on = 'course')\n",
        "applied_total_3.head(3)"
      ],
      "metadata": {
        "colab": {
          "base_uri": "https://localhost:8080/",
          "height": 220
        },
        "id": "8SYI43zmH0Tu",
        "outputId": "d20b42cf-a9e2-4705-8833-34cbce1d46dd"
      },
      "execution_count": 559,
      "outputs": [
        {
          "output_type": "execute_result",
          "data": {
            "text/plain": [
              "shape: (3, 5)\n",
              "┌─────────────────────────┬─────────────────────────┬────────────────────────┬───────────┬─────────┐\n",
              "│ course                  ┆ percentile              ┆ id                     ┆ to_enroll ┆ applied │\n",
              "│ ---                     ┆ ---                     ┆ ---                    ┆ ---       ┆ ---     │\n",
              "│ str                     ┆ list[f64]               ┆ list[str]              ┆ i64       ┆ u32     │\n",
              "╞═════════════════════════╪═════════════════════════╪════════════════════════╪═══════════╪═════════╡\n",
              "│ Теория баз данных       ┆ [0.513453, 0.672646, …  ┆ [\"5ee2ad618729a6dc3bdb ┆ 12        ┆ 6       │\n",
              "│                         ┆ 0.98206…                ┆ 7f285882…              ┆           ┆         │\n",
              "│ Высокопроизводительные  ┆ [0.278027, 0.485507, …  ┆ [\"34f75b81eb7b1cc9e9e4 ┆ 0         ┆ 4       │\n",
              "│ вычисле…                ┆ 0.87681…                ┆ ef5bfd7f…              ┆           ┆         │\n",
              "│ Statistical Learning    ┆ [0.673913, 0.766816]    ┆ [\"253bbe1a2021d0404712 ┆ 19        ┆ 2       │\n",
              "│ Theory                  ┆                         ┆ a1e4acd2…              ┆           ┆         │\n",
              "└─────────────────────────┴─────────────────────────┴────────────────────────┴───────────┴─────────┘"
            ],
            "text/html": [
              "<div><style>\n",
              ".dataframe > thead > tr,\n",
              ".dataframe > tbody > tr {\n",
              "  text-align: right;\n",
              "  white-space: pre-wrap;\n",
              "}\n",
              "</style>\n",
              "<small>shape: (3, 5)</small><table border=\"1\" class=\"dataframe\"><thead><tr><th>course</th><th>percentile</th><th>id</th><th>to_enroll</th><th>applied</th></tr><tr><td>str</td><td>list[f64]</td><td>list[str]</td><td>i64</td><td>u32</td></tr></thead><tbody><tr><td>&quot;Теория баз данных&quot;</td><td>[0.513453, 0.672646, … 0.982063]</td><td>[&quot;5ee2ad618729a6dc3bdb7f2858826ef0&quot;, &quot;1c1623a037bd523d687245e6060e6c5b&quot;, … &quot;f5d9f99cb876ca0888d18b6e444fa1b1&quot;]</td><td>12</td><td>6</td></tr><tr><td>&quot;Высокопроизводительные вычисле…</td><td>[0.278027, 0.485507, … 0.876812]</td><td>[&quot;34f75b81eb7b1cc9e9e4ef5bfd7fa69a&quot;, &quot;07b6ce7fd93bde95ce5fe14a5131a960&quot;, … &quot;085da16dd3062b4790c3dabdc08a51cf&quot;]</td><td>0</td><td>4</td></tr><tr><td>&quot;Statistical Learning Theory&quot;</td><td>[0.673913, 0.766816]</td><td>[&quot;253bbe1a2021d0404712a1e4acd22939&quot;, &quot;f2ed8115db45ef795ced2701fa86515d&quot;]</td><td>19</td><td>2</td></tr></tbody></table></div>"
            ]
          },
          "metadata": {},
          "execution_count": 559
        }
      ]
    },
    {
      "cell_type": "code",
      "source": [
        "enrolled_total_3 = selection(applied_total_3) # отбираем согласно количеству свободных мест\n",
        "selected_3  = enrolled_total_3.explode(['id'])\n",
        "res_3 = selected_3.group_by('id').agg('course').join(df['id', 'to_select'], on = 'id').join(selected_3.group_by('id').len(), on = 'id')\n",
        "\n",
        "w3_df = wi_df(res_3) # приводим в божеский вид\n",
        "\n",
        "df_wave_3 = (pl.concat([\n",
        "    pl.DataFrame({\"id\": w3_df['id']}),\n",
        "    pl.DataFrame(w3_df['course'].to_list(), schema=[\"course1\", \"course2\"])], how=\"horizontal\")).sort(by = 'id')\n",
        "res_df = pl.concat([df_wave_1, df_wave_2, df_wave_3])\n",
        "res_df.shape"
      ],
      "metadata": {
        "colab": {
          "base_uri": "https://localhost:8080/"
        },
        "id": "StN3Nhv5Kf7g",
        "outputId": "efeb56c2-c46b-495e-e12f-f19d4df32c0e"
      },
      "execution_count": 560,
      "outputs": [
        {
          "output_type": "execute_result",
          "data": {
            "text/plain": [
              "(320, 3)"
            ]
          },
          "metadata": {},
          "execution_count": 560
        }
      ]
    },
    {
      "cell_type": "code",
      "source": [
        "# всех студентов, которые так ничего и не выбрали, так же добавляем в табличку\n",
        "left = pl.DataFrame(df.filter(~(pl.col('id').is_in(res_df['id'])))['id']).with_columns([\n",
        "    pl.lit(\"???\").alias(\"course1\"),\n",
        "    pl.lit(\"???\").alias(\"course2\")\n",
        "])\n",
        "\n",
        "result_df = pl.concat([df_wave_1,df_wave_2, df_wave_3, left])\n",
        "result_df = result_df.rename({'id':'ID'})\n",
        "result_df.write_csv('res_fall.csv')\n",
        "result_df.shape"
      ],
      "metadata": {
        "id": "sVxQJZR7LHLJ",
        "colab": {
          "base_uri": "https://localhost:8080/"
        },
        "outputId": "9189be94-d947-422b-ff2e-d4decf1658af"
      },
      "execution_count": 561,
      "outputs": [
        {
          "output_type": "execute_result",
          "data": {
            "text/plain": [
              "(347, 3)"
            ]
          },
          "metadata": {},
          "execution_count": 561
        }
      ]
    },
    {
      "cell_type": "markdown",
      "metadata": {
        "id": "JgiMyLJz3JKw"
      },
      "source": [
        "**Отправьте свой файл res_fall.csv в контест (будет в ближайшее время, следите за новостями) и прикрепите/укажите ниже ваш никнейм и ссылку на успешную посылку.**"
      ]
    },
    {
      "cell_type": "markdown",
      "metadata": {
        "id": "3za2-Axk3JKw"
      },
      "source": [
        "*Дисклеймер:*\n",
        "\n",
        "Контест выдаётся для самопроверки. Если ваша посылка получила ОК, то код, скорее всего, правильный. Но при этом оценка всё равно может быть снижена в случае обнаружения неэффективностей или ошибок в коде. Если вы сдадите в AnyTask очевидно неработающий код или ноутбук без кода, но при этом в контест будет сдан корректный файл, то это будет расцениваться как плагиат."
      ]
    },
    {
      "cell_type": "markdown",
      "metadata": {
        "id": "jzciJOzo3JKw"
      },
      "source": [
        "На всякий случай просим вас сдать вместе с ноутбуком файл res_fall.csv в anytask"
      ]
    },
    {
      "cell_type": "markdown",
      "metadata": {
        "id": "XRHWCteT3JKx"
      },
      "source": [
        "### 4. [1 балл] Распределите таким же образом студентов еще и на весенние курсы по выбору.\n",
        "\n",
        "Если ваш код был хорошо структурирован, то это не составит проблем.\n",
        "\n",
        "Если вы выполнили это задание, сдайте среди прочего файл res_spring.csv в таком же формате, как и res_fall.csv."
      ]
    },
    {
      "cell_type": "code",
      "execution_count": 562,
      "metadata": {
        "id": "8hDYJoMO3JKx"
      },
      "outputs": [],
      "source": [
        "# (￣^'￣)ゞ"
      ]
    },
    {
      "cell_type": "markdown",
      "metadata": {
        "id": "xw9tt9dH3JKx"
      },
      "source": [
        "**Отправьте свой файл res_spring.csv в контест (будет в ближайшее время, следите за новостями) и прикрепите/укажите ниже ваш никнейм и ссылку на успешную посылку.**"
      ]
    },
    {
      "cell_type": "markdown",
      "metadata": {
        "id": "7aB4Q1fs3JKx"
      },
      "source": [
        "На всякий случай просим вас сдать вместе с ноутбуком файл res_spring.csv в anytask"
      ]
    },
    {
      "cell_type": "markdown",
      "metadata": {
        "id": "M1LivaOx3JKx"
      },
      "source": [
        "Вставьте картинку, описывающую ваш опыт выполнения этого задания:"
      ]
    },
    {
      "cell_type": "code",
      "execution_count": 562,
      "metadata": {
        "id": "QQ7X5fJW3JKx"
      },
      "outputs": [],
      "source": []
    }
  ],
  "metadata": {
    "colab": {
      "provenance": []
    },
    "kernelspec": {
      "display_name": "Python 3",
      "language": "python",
      "name": "python3"
    },
    "language_info": {
      "codemirror_mode": {
        "name": "ipython",
        "version": 3
      },
      "file_extension": ".py",
      "mimetype": "text/x-python",
      "name": "python",
      "nbconvert_exporter": "python",
      "pygments_lexer": "ipython3",
      "version": "3.10.13"
    }
  },
  "nbformat": 4,
  "nbformat_minor": 0
}